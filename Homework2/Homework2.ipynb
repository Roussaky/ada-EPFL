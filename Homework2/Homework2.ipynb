{
 "cells": [
  {
   "cell_type": "code",
   "execution_count": 59,
   "metadata": {
    "collapsed": true
   },
   "outputs": [],
   "source": [
    "# Import libraries\n",
    "import requests\n",
    "import pandas as pd\n",
    "import json\n",
    "import matplotlib.pyplot as plt\n",
    "import numpy as np\n",
    "\n",
    "\n",
    "from bs4 import BeautifulSoup"
   ]
  },
  {
   "cell_type": "markdown",
   "metadata": {},
   "source": [
    "## Top Universities Ranking"
   ]
  },
  {
   "cell_type": "markdown",
   "metadata": {},
   "source": [
    "Top Universities ranking methodology\n",
    "\n",
    "- Academic Reputation\n",
    "- Employer Reputation\n",
    "- **Faculty/Student Ratio**\n",
    "- Citations per faculty\n",
    "- **International Faculty Ratio**\n",
    "- **International Student Ratio**\n",
    "\n",
    "In this analysis we will focuse on the International outlook and how it influence university ranking"
   ]
  },
  {
   "cell_type": "markdown",
   "metadata": {},
   "source": [
    "### Retriving data from TopUniversities web site"
   ]
  },
  {
   "cell_type": "code",
   "execution_count": 60,
   "metadata": {
    "collapsed": true
   },
   "outputs": [],
   "source": [
    "BASE_URL = 'https://www.topuniversities.com'\n",
    "# Make the request\n",
    "r = requests.get('https://www.topuniversities.com/sites/default/files/qs-rankings-data/357051.txt?_=1508079297350')\n",
    "json_result = r.json()"
   ]
  },
  {
   "cell_type": "code",
   "execution_count": 61,
   "metadata": {
    "collapsed": true
   },
   "outputs": [],
   "source": [
    "def getUniInfo(URL):\n",
    "    #International faculty member\n",
    "\n",
    "    r = requests.get(URL)\n",
    "    soup = BeautifulSoup(r.text, 'html.parser')\n",
    "    \n",
    "    #Extract the div with the intels about the faculty\n",
    "    facultyDiv  = soup.find(\"div\", class_=\"faculty-main wrapper col-md-4\")\n",
    "    \n",
    "    #In the case the data is not on the page\n",
    "    if facultyDiv is None:\n",
    "        facultyInt = -1\n",
    "        facultyTot = -1\n",
    "    else:\n",
    "        facultyInt = extract_number(facultyDiv.find(\"div\", class_=\"inter faculty\"))\n",
    "        facultyTot = extract_number(facultyDiv.find(\"div\", class_=\"total faculty\"))\n",
    "    \n",
    "    #Extract the div with the intels about the student\n",
    "\n",
    "    studentInt = soup.find(\"div\", class_=\"total inter\")\n",
    "    studentTot = soup.find(\"div\", class_=\"total student\")\n",
    "    #In the case the data is not on the page\n",
    "    \n",
    "    if studentInt is None:\n",
    "        studentInt = -1\n",
    "    else:\n",
    "        studentInt = extract_number(studentInt)\n",
    "        \n",
    "    if studentTot is None:\n",
    "        studentTot = -1\n",
    "    else:\n",
    "        studentTot = extract_number(studentTot)\n",
    "        \n",
    "    return facultyInt,facultyTot,studentInt,studentTot\n",
    "\n",
    "def extract_number(t):\n",
    "    #Answer on how to extract the int out of string found here:\n",
    "    #https://stackoverflow.com/questions/26825729/extract-number-from-string-python\n",
    "    \n",
    "    #In case the faculty doesn't have international faculty member\n",
    "    if t is None:\n",
    "        return -1\n",
    "    \n",
    "    return int(''.join(filter(str.isdigit, t.find(\"div\", class_=\"number\").text)))"
   ]
  },
  {
   "cell_type": "code",
   "execution_count": 62,
   "metadata": {
    "scrolled": true
   },
   "outputs": [],
   "source": [
    "#Building the dataFrame\n",
    "topU_ranking = pd.DataFrame(columns = ['Rank','Name','Country','Region','FacultyMemberInt','FacultyMemberTot','StudentInt','StudentTot'])\n",
    "\n",
    "nb = 0\n",
    "for i in json_result.keys():\n",
    "    for x in json_result[i]:\n",
    "        \n",
    "        if nb == 200:\n",
    "            break\n",
    "        \n",
    "        #print(x['title'])\n",
    "        nb = nb + 1\n",
    "        facultyInt,facultyTot,studentInt,studentTot = getUniInfo(BASE_URL + x['url'])\n",
    "        current_uni = [x['rank_display'],x['title'],x['country'],x['region'],facultyInt,facultyTot,studentInt,studentTot]\n",
    "        topU_ranking.loc[len(topU_ranking)] = current_uni\n",
    "    "
   ]
  },
  {
   "cell_type": "code",
   "execution_count": 63,
   "metadata": {
    "collapsed": true,
    "scrolled": true
   },
   "outputs": [],
   "source": [
    "def getBestRatio(data,col1,col2,Mode=\"MAXIMIZE\"):\n",
    "    \"\"\"Compute and return the best ratio col1 / col2.FilteringBy indicate the column header we want to filter by\"\"\"\n",
    "    if Mode == 'MAXIMIZE':\n",
    "        bestRatio = 0\n",
    "        bestName = ''\n",
    "    elif Mode == 'MINIMIZE':\n",
    "        bestRatio = 100\n",
    "        bestName = ''\n",
    "    else:\n",
    "        return -1,\"Mode should be MINIMIZE or MAXIMIZE\"\n",
    "    \n",
    "    for index, row in data.iterrows():\n",
    "\n",
    "        if Mode==\"MAXIMIZE\" and row[col1] > 0 and row[col2] > 0:\n",
    "            currentRatio = row[col1] / row[col2]\n",
    "            if bestRatio < currentRatio:\n",
    "                bestRatio = currentRatio\n",
    "                bestName = row['Name']\n",
    "        elif Mode==\"MINIMIZE\" and row[col1] > 0 and row[col2] > 0:\n",
    "            currentRatio = row[col1] / row[col2]\n",
    "            if bestRatio > currentRatio:\n",
    "                bestRatio = currentRatio\n",
    "                bestName = row['Name']\n",
    "                \n",
    "    return bestName,bestRatio  \n",
    "\n",
    "def extract_number(t):\n",
    "    #Answer on how to extract the int out of string found here:\n",
    "    #https://stackoverflow.com/questions/26825729/extract-number-from-string-python\n",
    "    \n",
    "    #In case the faculty doesn't have international faculty member\n",
    "    if t is None:\n",
    "        return -1\n",
    "    \n",
    "    return int(''.join(filter(str.isdigit, t)))"
   ]
  },
  {
   "cell_type": "code",
   "execution_count": 64,
   "metadata": {},
   "outputs": [
    {
     "name": "stdout",
     "output_type": "stream",
     "text": [
      "Best ratio between faculty members and students:\n",
      " Name = California Institute of Technology (Caltech), Ratio = 2.366211962224554\n",
      "Best ratio of international student:\n",
      " Name = London School of Economics and Political Science (LSE), Ratio = 0.6913934426229508\n"
     ]
    }
   ],
   "source": [
    "#Get the best ratio of international faculty member.\n",
    "uniWithBestFacRatio, maxIntFacRatio = getBestRatio(topU_ranking,'StudentTot','FacultyMemberTot','MINIMIZE')\n",
    "print(\"Best ratio between faculty members and students:\\n Name = {n}, Ratio = {r}\".format(n=uniWithBestFacRatio,r=maxIntFacRatio))   \n",
    "\n",
    "#Get the best ratio of international student.\n",
    "uniWithBestStudRatio, maxIntStudRatio = getBestRatio(topU_ranking,'StudentInt','StudentTot')\n",
    "print(\"Best ratio of international student:\\n Name = {n}, Ratio = {r}\".format(n=uniWithBestStudRatio,r=maxIntStudRatio)) "
   ]
  },
  {
   "cell_type": "markdown",
   "metadata": {},
   "source": [
    "### The best Ratio by Country"
   ]
  },
  {
   "cell_type": "code",
   "execution_count": 65,
   "metadata": {},
   "outputs": [
    {
     "name": "stdout",
     "output_type": "stream",
     "text": [
      "Best ratio between faculty members and students:\n",
      "Name = India, Ratio = 0.01713859910581222\n",
      "Best ratio of international student:\n",
      "Name = Australia, Ratio = 0.3521891163400597\n"
     ]
    }
   ],
   "source": [
    "#Get the list of the countries in the dataFrame\n",
    "countryStats = pd.DataFrame(columns = ['Name','FacultyMemberInt','FacultyMemberTot','StudentInt','StudentTot'])\n",
    "countries = topU_ranking.Country.unique()\n",
    "\n",
    "for country in countries:\n",
    "    \n",
    "    #Ignore the row with -1\n",
    "    currentCountry = topU_ranking[(topU_ranking.Country == country)&(topU_ranking.StudentInt >=0)&(topU_ranking.StudentTot >=0)&(topU_ranking.FacultyMemberInt >=0)&(topU_ranking.FacultyMemberTot >=0)]\n",
    "    \n",
    "    #Sum the columns\n",
    "    IntStud = currentCountry.StudentInt.sum()\n",
    "    TotStud = currentCountry.StudentTot.sum()\n",
    "    IntFac = currentCountry.FacultyMemberInt.sum()\n",
    "    TotFac = currentCountry.FacultyMemberTot.sum()\n",
    "    \n",
    "    currentCountry = [country,IntFac,TotFac,IntStud,TotStud]\n",
    "    countryStats.loc[len(countryStats)] = (currentCountry)\n",
    "    \n",
    "CountryWithBestFacRatio, maxIntFacCountryRatio = getBestRatio(countryStats,'FacultyMemberInt','FacultyMemberTot','MINIMIZE')\n",
    "print(\"Best ratio between faculty members and students:\\nName = {n}, Ratio = {r}\".format(n=CountryWithBestFacRatio,r=maxIntFacCountryRatio)) \n",
    "\n",
    "CountryWithBestStudRatio, maxIntStudCountryRatio = getBestRatio(countryStats,'StudentInt','StudentTot')\n",
    "print(\"Best ratio of international student:\\nName = {n}, Ratio = {r}\".format(n=CountryWithBestStudRatio,r=maxIntStudCountryRatio)) "
   ]
  },
  {
   "cell_type": "markdown",
   "metadata": {},
   "source": [
    "### The best Ratio by Region"
   ]
  },
  {
   "cell_type": "code",
   "execution_count": 66,
   "metadata": {},
   "outputs": [
    {
     "name": "stdout",
     "output_type": "stream",
     "text": [
      "Best ratio between faculty members and students:\n",
      "Name = Oceania, Ratio = 0.07238546179394403\n",
      "Best ratio of international student:\n",
      "Name = Oceania, Ratio = 0.3392609811889755\n"
     ]
    }
   ],
   "source": [
    "#Get the list of the countries in the dataFrame\n",
    "RegionStats = pd.DataFrame(columns = ['Name','FacultyMemberInt','FacultyMemberTot','StudentInt','StudentTot'])\n",
    "regions = topU_ranking.Region.unique()\n",
    "\n",
    "for region in regions:\n",
    "    \n",
    "    #Delete the row with -1\n",
    "    currentRegion = topU_ranking[(topU_ranking.Region == region)&(topU_ranking.StudentInt >=0)&(topU_ranking.StudentTot >=0)&(topU_ranking.FacultyMemberInt >=0)&(topU_ranking.FacultyMemberTot >=0)]\n",
    "    \n",
    "    #Sum the columns\n",
    "    IntStud = currentRegion.StudentInt.sum()\n",
    "    TotStud = currentRegion.StudentTot.sum()\n",
    "    IntFac = currentRegion.FacultyMemberInt.sum()\n",
    "    TotFac = currentRegion.FacultyMemberTot.sum()\n",
    "    \n",
    "    currentRegion = [region,IntFac,TotFac,IntStud,TotStud]\n",
    "    RegionStats.loc[len(RegionStats)] = (currentRegion)\n",
    "    \n",
    "RegionWithBestFacRatio, maxIntFacRegionRatio = getBestRatio(RegionStats,'FacultyMemberTot','StudentTot','MINIMIZE')\n",
    "print(\"Best ratio between faculty members and students:\\nName = {n}, Ratio = {r}\".format(n=RegionWithBestFacRatio,r=maxIntFacRegionRatio)) \n",
    "\n",
    "RegionWithBestStudRatio, maxIntStudRegionRatio = getBestRatio(RegionStats,'StudentInt','StudentTot')\n",
    "print(\"Best ratio of international student:\\nName = {n}, Ratio = {r}\".format(n=RegionWithBestStudRatio,r=maxIntStudRegionRatio)) "
   ]
  },
  {
   "cell_type": "markdown",
   "metadata": {},
   "source": [
    "## Times Higher Education Ranking"
   ]
  },
  {
   "cell_type": "markdown",
   "metadata": {},
   "source": [
    "Times Higher Education Ranking methodology: \n",
    "    \n",
    "The performance indicators are grouped into five areas:\n",
    "\n",
    "- Teaching (the learning environment)\n",
    "- Research (volume, income and reputation)\n",
    "- Citations (research influence);\n",
    "- **International outlook (staff, students and research)**\n",
    "- Industry income (knowledge transfer)"
   ]
  },
  {
   "cell_type": "markdown",
   "metadata": {},
   "source": [
    "### Retreiving Data From timeshighereducation website:"
   ]
  },
  {
   "cell_type": "code",
   "execution_count": 67,
   "metadata": {
    "collapsed": true
   },
   "outputs": [],
   "source": [
    "API_URL_DATA = \"https://www.timeshighereducation.com/sites/default/files/the_data_rankings/world_university_rankings_2018_limit0_369a9045a203e176392b9fb8f8c1cb2a.json\"#Building the dataFrame\n",
    "json_result = requests.get(API_URL_DATA).json()[\"data\"]\n",
    "times_ranking = pd.DataFrame(columns = ['Rank','Name','Country','FacultyMemberTot','StudentInt','StudentTot'])\n",
    "nb = 0\n",
    "for x in json_result:        \n",
    "    if nb == 200:\n",
    "        break        \n",
    "    studentTot = extract_number(x['stats_number_students']) \n",
    "    studentInt = int(extract_number(x['stats_pc_intl_students'])*studentTot/100)\n",
    "    facultyTot = int(studentTot/float(x['stats_student_staff_ratio']))\n",
    "    current_uni = [x['rank'],x['name'],x['location'],facultyTot,studentInt,studentTot]\n",
    "    times_ranking.loc[nb] = current_uni\n",
    "    nb = nb + 1"
   ]
  },
  {
   "cell_type": "code",
   "execution_count": 68,
   "metadata": {},
   "outputs": [
    {
     "name": "stdout",
     "output_type": "stream",
     "text": [
      "Best ratio between faculty members and students:\n",
      "  Name = Vanderbilt University, Ratio 'number of students per staff' = 3.300632041769717\n",
      "Best ratio of international student:\n",
      "  Name = London School of Economics and Political Science, Ratio = 0.7099850968703427\n"
     ]
    }
   ],
   "source": [
    "# a) Get the best ratio between faculty members and students,\n",
    "uniWithBestRatio, maxRatio = getBestRatio(times_ranking,'StudentTot','FacultyMemberTot','MINIMIZE')\n",
    "print(\"Best ratio between faculty members and students:\\n  Name = {n}, Ratio 'number of students per staff' = {r}\".format(n=uniWithBestRatio,r=maxRatio))   \n",
    "\n",
    "# b) Get the best ratio of international student.\n",
    "uniWithBestStudRatio, maxIntStudRatio = getBestRatio(times_ranking,'StudentInt','StudentTot')\n",
    "print(\"Best ratio of international student:\\n  Name = {n}, Ratio = {r}\".format(n=uniWithBestStudRatio,r=maxIntStudRatio)) "
   ]
  },
  {
   "cell_type": "markdown",
   "metadata": {},
   "source": [
    "### The best Ratio by Country"
   ]
  },
  {
   "cell_type": "code",
   "execution_count": 69,
   "metadata": {},
   "outputs": [
    {
     "name": "stdout",
     "output_type": "stream",
     "text": [
      "Best ratio between faculty members and students by country:\n",
      "  Name = Denmark, Ratio 'number of students per staff' = 6.05039637599094\n",
      "Best ratio of international student vy country:\n",
      "  Name = Luxembourg, Ratio = 0.5699335882471323\n"
     ]
    }
   ],
   "source": [
    "#Get the list of the countries in the dataFrame\n",
    "countryStats = pd.DataFrame(columns = ['Name','FacultyMemberTot','StudentInt','StudentTot'])\n",
    "countries = times_ranking.Country.unique()\n",
    "\n",
    "for country in countries:\n",
    "    \n",
    "    #Delete the row with -1\n",
    "    currentCountry = times_ranking[(times_ranking.Country == country)&(times_ranking.StudentInt >=0)&(times_ranking.StudentTot >=0)&(times_ranking.FacultyMemberTot >=0)]\n",
    "    \n",
    "    #Sum the columns\n",
    "    IntStud = currentCountry.StudentInt.sum()\n",
    "    TotStud = currentCountry.StudentTot.sum()\n",
    "    TotFac = currentCountry.FacultyMemberTot.sum()\n",
    "    \n",
    "    currentCountry = [country,TotFac,IntStud,TotStud]\n",
    "    countryStats.loc[len(countryStats)] = (currentCountry)\n",
    "\n",
    "# a) Get the best ratio between faculty members and students by country\n",
    "CountryWithBestFacRatio, maxIntFacCountryRatio = getBestRatio(countryStats,'StudentTot','FacultyMemberTot','MINIMIZE')\n",
    "print(\"Best ratio between faculty members and students by country:\\n  Name = {n}, Ratio 'number of students per staff' = {r}\".format(n=CountryWithBestFacRatio,r=maxIntFacCountryRatio)) \n",
    "\n",
    "# b) Get the best ratio of international student by country\n",
    "CountryWithBestStudRatio, maxIntStudCountryRatio = getBestRatio(countryStats,'StudentInt','StudentTot')\n",
    "print(\"Best ratio of international student vy country:\\n  Name = {n}, Ratio = {r}\".format(n=CountryWithBestStudRatio,r=maxIntStudCountryRatio)) "
   ]
  },
  {
   "cell_type": "markdown",
   "metadata": {},
   "source": [
    "## Merging Both Ranking"
   ]
  },
  {
   "cell_type": "code",
   "execution_count": 70,
   "metadata": {},
   "outputs": [],
   "source": [
    "# Matching universities'names\n",
    "for i in range(0,len(topU_ranking)):\n",
    "    test = topU_ranking[\"Name\"][i]\n",
    "    if( test.find(\"(\") != -1 and test.find(\")\") != -1):\n",
    "        extract = test[test.find(\"(\")+1:test.find(\")\")]\n",
    "        if(2*len(extract) < len(test)):\n",
    "            test = test.replace(\"(\"+extract+\")\",\"\")  \n",
    "        else:\n",
    "            test = extract\n",
    "    topU_ranking[\"Name\"][i]=test"
   ]
  },
  {
   "cell_type": "code",
   "execution_count": 71,
   "metadata": {},
   "outputs": [],
   "source": [
    "topU_ranking = topU_ranking.set_index(['Name'])\n",
    "times_ranking = times_ranking.set_index([\"Name\"])"
   ]
  },
  {
   "cell_type": "code",
   "execution_count": 72,
   "metadata": {
    "collapsed": true
   },
   "outputs": [],
   "source": [
    "def country_notNull(row):\n",
    "    cx = row[\"Country_x\"]\n",
    "    cy = row[\"Country_y\"]\n",
    "    if not pd.isnull(cy) :\n",
    "        return cy\n",
    "    return cx"
   ]
  },
  {
   "cell_type": "code",
   "execution_count": 74,
   "metadata": {},
   "outputs": [],
   "source": [
    "times_TopU_ranking = pd.merge(topU_ranking,times_ranking,how=\"inner\",left_index=True,right_index=True)\n",
    "times_TopU_ranking[\"Country\"] = times_TopU_ranking.apply(country_notNull, axis=1) \n",
    "\n",
    "#avg data\n",
    "times_TopU_ranking[\"FacultyMemberTot\"] =  (times_TopU_ranking[\"FacultyMemberTot_x\"]+times_TopU_ranking[\"FacultyMemberTot_y\"])/2\n",
    "times_TopU_ranking[\"StudentTot\"] =  (times_TopU_ranking[\"StudentTot_x\"]+times_TopU_ranking[\"StudentTot_y\"])/2\n",
    "times_TopU_ranking[\"StudentInt\"] =  (times_TopU_ranking[\"StudentInt_x\"]+times_TopU_ranking[\"StudentInt_y\"])/2\n",
    "\n",
    "\n",
    "times_TopU_ranking.drop([\"Country_x\",\"Country_y\",\"StudentInt_y\",\"StudentTot_y\",\"FacultyMemberTot_y\",\"FacultyMemberTot_x\",\"StudentInt_x\",\"StudentTot_x\"], axis=1, inplace=True) #drop country_x & country_y\n",
    "times_TopU_ranking.rename(columns={'Rank_x': 'Times_Ranking', 'Rank_y': 'TopU_Ranking',}, inplace=True)\n",
    "times_TopU_ranking = times_TopU_ranking[[\"Times_Ranking\",\"TopU_Ranking\",\"Country\",\"Region\",\"FacultyMemberTot\",\"FacultyMemberInt\",\"StudentTot\",\"StudentInt\"]]"
   ]
  },
  {
   "cell_type": "code",
   "execution_count": 75,
   "metadata": {},
   "outputs": [],
   "source": [
    "#Searching a correlation between the international dimension and the ranking\n",
    "data = pd.DataFrame(columns = ['Times_Ranking','TopU_Ranking','InternationalStudRatio','InternationalFacRatio'])\n",
    "\n",
    "for index, row in times_TopU_ranking.iterrows():\n",
    "    current_rank_times = row['Times_Ranking']\n",
    "    if '=' in current_rank_times[:1]:\n",
    "        current_rank_times = current_rank_times[1:]\n",
    "        \n",
    "    current_rank_U = row['TopU_Ranking']\n",
    "    if '=' in current_rank_U[:1]:\n",
    "        current_rank_U = current_rank_U[1:]\n",
    "    \n",
    "    current_stud_ratio = row['StudentInt'] / row['StudentTot']\n",
    "    current_fac_ratio = row['FacultyMemberInt'] / row['FacultyMemberTot']\n",
    "    current_row = [current_rank_times,current_rank_U,current_stud_ratio,current_fac_ratio]\n",
    "    data.loc[len(data)] = current_row"
   ]
  },
  {
   "cell_type": "code",
   "execution_count": 76,
   "metadata": {},
   "outputs": [
    {
     "data": {
      "image/png": "[encoded data removed]",
      "text/plain": [
       "<matplotlib.figure.Figure at 0x11aa521d0>"
      ]
     },
     "metadata": {},
     "output_type": "display_data"
    }
   ],
   "source": [
    "plt.plot(data['Times_Ranking'],data['InternationalStudRatio'],'.',data['TopU_Ranking'],data['InternationalStudRatio'],'r.')\n",
    "plt.axis([0, 200, 0, 1])\n",
    "plt.title('Ratio of international student for both ranking')\n",
    "plt.xlabel('Ranking')\n",
    "plt.legend([\"Times ranking\",\"TopU Ranking\"])\n",
    "plt.ylabel('%')\n",
    "plt.show()"
   ]
  },
  {
   "cell_type": "markdown",
   "metadata": {},
   "source": [
    "Wee see that ratio of international student for the top 20 university is at least greater than 0.2"
   ]
  },
  {
   "cell_type": "code",
   "execution_count": 77,
   "metadata": {},
   "outputs": [
    {
     "data": {
      "image/png": "[encoded data removed]",
      "text/plain": [
       "<matplotlib.figure.Figure at 0x11aa524e0>"
      ]
     },
     "metadata": {},
     "output_type": "display_data"
    }
   ],
   "source": [
    "plt.plot(data['Times_Ranking'],data['InternationalFacRatio'],'.',data['TopU_Ranking'],data['InternationalFacRatio'],'r.')\n",
    "plt.axis([0, 200, 0, 1])\n",
    "plt.title('Ratio of international faculty member for both ranking')\n",
    "plt.xlabel('Ranking')\n",
    "plt.legend([\"Times ranking\",\"TopU Ranking\"])\n",
    "plt.ylabel('%')\n",
    "plt.show()"
   ]
  },
  {
   "cell_type": "markdown",
   "metadata": {},
   "source": [
    "We can clearly see that the top5 university has a ratio of international faculty member greater than 0.6"
   ]
  },
  {
   "cell_type": "code",
   "execution_count": 80,
   "metadata": {},
   "outputs": [
    {
     "data": {
      "image/png": "[encoded data removed]",
      "text/plain": [
       "<matplotlib.figure.Figure at 0x1156200b8>"
      ]
     },
     "metadata": {},
     "output_type": "display_data"
    }
   ],
   "source": [
    "plt.plot(data['Times_Ranking'],data['InternationalStudRatio'] - data['InternationalFacRatio'],'.',data['TopU_Ranking'],data['InternationalStudRatio'] - data['InternationalFacRatio'],'r.')\n",
    "plt.axis([0, 200, -0.2, 0.2])\n",
    "plt.title('Differences between ratio of international student and international faculty member')\n",
    "plt.xlabel('Ranking')\n",
    "plt.ylabel('%')\n",
    "plt.legend([\"Times ranking\",\"TopU Ranking\"])\n",
    "\n",
    "plt.show()"
   ]
  },
  {
   "cell_type": "code",
   "execution_count": 79,
   "metadata": {},
   "outputs": [
    {
     "data": {
      "text/html": [
       "<div>\n",
       "<style>\n",
       "    .dataframe thead tr:only-child th {\n",
       "        text-align: right;\n",
       "    }\n",
       "\n",
       "    .dataframe thead th {\n",
       "        text-align: left;\n",
       "    }\n",
       "\n",
       "    .dataframe tbody tr th {\n",
       "        vertical-align: top;\n",
       "    }\n",
       "</style>\n",
       "<table border=\"1\" class=\"dataframe\">\n",
       "  <thead>\n",
       "    <tr style=\"text-align: right;\">\n",
       "      <th></th>\n",
       "      <th>Times_Ranking</th>\n",
       "      <th>TopU_Ranking</th>\n",
       "      <th>Country</th>\n",
       "      <th>Region</th>\n",
       "      <th>FacultyMemberTot</th>\n",
       "      <th>FacultyMemberInt</th>\n",
       "      <th>StudentTot</th>\n",
       "      <th>StudentInt</th>\n",
       "    </tr>\n",
       "    <tr>\n",
       "      <th>Name</th>\n",
       "      <th></th>\n",
       "      <th></th>\n",
       "      <th></th>\n",
       "      <th></th>\n",
       "      <th></th>\n",
       "      <th></th>\n",
       "      <th></th>\n",
       "      <th></th>\n",
       "    </tr>\n",
       "  </thead>\n",
       "  <tbody>\n",
       "    <tr>\n",
       "      <th>Stanford University</th>\n",
       "      <td>2</td>\n",
       "      <td>=3</td>\n",
       "      <td>United States</td>\n",
       "      <td>North America</td>\n",
       "      <td>3198.5</td>\n",
       "      <td>2042</td>\n",
       "      <td>15861.5</td>\n",
       "      <td>3548</td>\n",
       "    </tr>\n",
       "    <tr>\n",
       "      <th>Harvard University</th>\n",
       "      <td>3</td>\n",
       "      <td>6</td>\n",
       "      <td>United States</td>\n",
       "      <td>North America</td>\n",
       "      <td>3316.5</td>\n",
       "      <td>1311</td>\n",
       "      <td>21377.5</td>\n",
       "      <td>5275</td>\n",
       "    </tr>\n",
       "    <tr>\n",
       "      <th>University of Cambridge</th>\n",
       "      <td>5</td>\n",
       "      <td>2</td>\n",
       "      <td>United Kingdom</td>\n",
       "      <td>Europe</td>\n",
       "      <td>3588.5</td>\n",
       "      <td>2278</td>\n",
       "      <td>18579.5</td>\n",
       "      <td>6567.5</td>\n",
       "    </tr>\n",
       "    <tr>\n",
       "      <th>University of Oxford</th>\n",
       "      <td>6</td>\n",
       "      <td>1</td>\n",
       "      <td>United Kingdom</td>\n",
       "      <td>Europe</td>\n",
       "      <td>4286</td>\n",
       "      <td>2964</td>\n",
       "      <td>20064.5</td>\n",
       "      <td>7554</td>\n",
       "    </tr>\n",
       "    <tr>\n",
       "      <th>University College London</th>\n",
       "      <td>7</td>\n",
       "      <td>16</td>\n",
       "      <td>United Kingdom</td>\n",
       "      <td>Europe</td>\n",
       "      <td>4615.5</td>\n",
       "      <td>2554</td>\n",
       "      <td>30692</td>\n",
       "      <td>14851</td>\n",
       "    </tr>\n",
       "  </tbody>\n",
       "</table>\n",
       "</div>"
      ],
      "text/plain": [
       "                          Times_Ranking TopU_Ranking         Country  \\\n",
       "Name                                                                   \n",
       "Stanford University                   2           =3   United States   \n",
       "Harvard University                    3            6   United States   \n",
       "University of Cambridge               5            2  United Kingdom   \n",
       "University of Oxford                  6            1  United Kingdom   \n",
       "University College London             7           16  United Kingdom   \n",
       "\n",
       "                                  Region FacultyMemberTot FacultyMemberInt  \\\n",
       "Name                                                                         \n",
       "Stanford University        North America           3198.5             2042   \n",
       "Harvard University         North America           3316.5             1311   \n",
       "University of Cambridge           Europe           3588.5             2278   \n",
       "University of Oxford              Europe             4286             2964   \n",
       "University College London         Europe           4615.5             2554   \n",
       "\n",
       "                          StudentTot StudentInt  \n",
       "Name                                             \n",
       "Stanford University          15861.5       3548  \n",
       "Harvard University           21377.5       5275  \n",
       "University of Cambridge      18579.5     6567.5  \n",
       "University of Oxford         20064.5       7554  \n",
       "University College London      30692      14851  "
      ]
     },
     "execution_count": 79,
     "metadata": {},
     "output_type": "execute_result"
    }
   ],
   "source": [
    "times_TopU_ranking.head()"
   ]
  },
  {
   "cell_type": "markdown",
   "metadata": {
    "collapsed": true
   },
   "source": [
    "### The best university according to both ranking is : Stanford University"
   ]
  },
  {
   "cell_type": "markdown",
   "metadata": {},
   "source": [
    "( minimum of times.ranking^2 + topU.ranking^2)"
   ]
  },
  {
   "cell_type": "code",
   "execution_count": null,
   "metadata": {
    "collapsed": true
   },
   "outputs": [],
   "source": []
  }
 ],
 "metadata": {
  "kernelspec": {
   "display_name": "Python 3",
   "language": "python",
   "name": "python3"
  },
  "language_info": {
   "codemirror_mode": {
    "name": "ipython",
    "version": 3
   },
   "file_extension": ".py",
   "mimetype": "text/x-python",
   "name": "python",
   "nbconvert_exporter": "python",
   "pygments_lexer": "ipython3",
   "version": "3.6.2"
  }
 },
 "nbformat": 4,
 "nbformat_minor": 2
}
