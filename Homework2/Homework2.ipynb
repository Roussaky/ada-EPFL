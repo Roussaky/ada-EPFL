{
 "cells": [
  {
   "cell_type": "code",
   "execution_count": 8,
   "metadata": {
    "collapsed": true
   },
   "outputs": [],
   "source": [
    "# Import libraries\n",
    "import requests\n",
    "import pandas as pd\n",
    "import json\n",
    "\n",
    "from bs4 import BeautifulSoup\n",
    "\n",
    "BASE_URL = 'https://www.topuniversities.com'"
   ]
  },
  {
   "cell_type": "code",
   "execution_count": 3,
   "metadata": {
    "collapsed": true
   },
   "outputs": [],
   "source": [
    "# Make the request\n",
    "r = requests.get('https://www.topuniversities.com/sites/default/files/qs-rankings-data/357051.txt?_=1508079297350')\n",
    "json_result = r.json()"
   ]
  },
  {
   "cell_type": "code",
   "execution_count": 4,
   "metadata": {
    "collapsed": true
   },
   "outputs": [],
   "source": [
    "def getUniInfo(URL):\n",
    "    #International faculty member\n",
    "\n",
    "    r = requests.get(URL)\n",
    "    soup = BeautifulSoup(r.text, 'html.parser')\n",
    "    \n",
    "    #Extract the div with the intels about the faculty\n",
    "    facultyDiv  = soup.find(\"div\", class_=\"faculty-main wrapper col-md-4\")\n",
    "    \n",
    "    #In the case the data is not on the page\n",
    "    if facultyDiv is None:\n",
    "        facultyInt = -1\n",
    "        facultyTot = -1\n",
    "    else:\n",
    "        facultyInt = extract_number(facultyDiv.find(\"div\", class_=\"inter faculty\"))\n",
    "        facultyTot = extract_number(facultyDiv.find(\"div\", class_=\"total faculty\"))\n",
    "    \n",
    "    #Extract the div with the intels about the student\n",
    "\n",
    "    studentInt = soup.find(\"div\", class_=\"total inter\")\n",
    "    studentTot = soup.find(\"div\", class_=\"total student\")\n",
    "    #In the case the data is not on the page\n",
    "    \n",
    "    if studentInt is None:\n",
    "        studentInt = -1\n",
    "    else:\n",
    "        studentInt = extract_number(studentInt)\n",
    "        \n",
    "    if studentTot is None:\n",
    "        studentTot = -1\n",
    "    else:\n",
    "        studentTot = extract_number(studentTot)\n",
    "        \n",
    "    return facultyInt,facultyTot,studentInt,studentTot\n",
    "\n",
    "def extract_number(t):\n",
    "    #Answer on how to extract the int out of string found here:\n",
    "    #https://stackoverflow.com/questions/26825729/extract-number-from-string-python\n",
    "    \n",
    "    #In case the faculty doesn't have international faculty member\n",
    "    if t is None:\n",
    "        return -1\n",
    "    \n",
    "    return int(''.join(filter(str.isdigit, t.find(\"div\", class_=\"number\").text)))"
   ]
  },
  {
   "cell_type": "code",
   "execution_count": 5,
   "metadata": {
    "scrolled": true
   },
   "outputs": [
    {
     "ename": "NameError",
     "evalue": "name 'display' is not defined",
     "output_type": "error",
     "traceback": [
      "\u001b[0;31m---------------------------------------------------------------------------\u001b[0m",
      "\u001b[0;31mNameError\u001b[0m                                 Traceback (most recent call last)",
      "\u001b[0;32m<ipython-input-5-bb7916eba434>\u001b[0m in \u001b[0;36m<module>\u001b[0;34m()\u001b[0m\n\u001b[1;32m     16\u001b[0m \u001b[0;34m\u001b[0m\u001b[0m\n\u001b[1;32m     17\u001b[0m \u001b[0;34m\u001b[0m\u001b[0m\n\u001b[0;32m---> 18\u001b[0;31m \u001b[0mdisplay\u001b[0m\u001b[0;34m(\u001b[0m\u001b[0mdf\u001b[0m\u001b[0;34m)\u001b[0m\u001b[0;34m\u001b[0m\u001b[0m\n\u001b[0m",
      "\u001b[0;31mNameError\u001b[0m: name 'display' is not defined"
     ]
    }
   ],
   "source": [
    "#Building the dataFrame\n",
    "df = pd.DataFrame(columns = ['Rank','Name','Country','Region','FacultyMemberInt','FacultyMemberTot','StudentInt','StudentTot'])\n",
    "\n",
    "nb = 0\n",
    "for i in json_result.keys():\n",
    "    for x in json_result[i]:\n",
    "        \n",
    "        if nb == 200:\n",
    "            break\n",
    "        \n",
    "        #print(x['title'])\n",
    "        nb = nb + 1\n",
    "        facultyInt,facultyTot,studentInt,studentTot = getUniInfo(BASE_URL + x['url'])\n",
    "        current_uni = [x['rank_display'],x['title'],x['country'],x['region'],facultyInt,facultyTot,studentInt,studentTot]\n",
    "        df.loc[len(df)] = current_uni\n"
   ]
  },
  {
   "cell_type": "code",
   "execution_count": 11,
   "metadata": {},
   "outputs": [
    {
     "ename": "NameError",
     "evalue": "name 'display' is not defined",
     "output_type": "error",
     "traceback": [
      "\u001b[0;31m---------------------------------------------------------------------------\u001b[0m",
      "\u001b[0;31mNameError\u001b[0m                                 Traceback (most recent call last)",
      "\u001b[0;32m<ipython-input-11-62112c4dacbe>\u001b[0m in \u001b[0;36m<module>\u001b[0;34m()\u001b[0m\n\u001b[0;32m----> 1\u001b[0;31m \u001b[0mdisplay\u001b[0m\u001b[0;34m(\u001b[0m\u001b[0mdf\u001b[0m\u001b[0;34m)\u001b[0m\u001b[0;34m\u001b[0m\u001b[0m\n\u001b[0m",
      "\u001b[0;31mNameError\u001b[0m: name 'display' is not defined"
     ]
    }
   ],
   "source": [
    "display(df)"
   ]
  },
  {
   "cell_type": "code",
   "execution_count": 38,
   "metadata": {
    "scrolled": true
   },
   "outputs": [],
   "source": [
    "def getBestRatio(data,col1,col2):\n",
    "    \"\"\"Compute and return the best ratio col1 / col2.FilteringBy indicate the column header we want to filter by\"\"\"\n",
    "            \n",
    "    bestRatio = 0\n",
    "    bestName = ''\n",
    "    \n",
    "    for index, row in data.iterrows():\n",
    "\n",
    "        if row[col1] > 0 and row[col2] > 0:\n",
    "            currentRatio = row[col1] / row[col2]\n",
    "            if bestRatio < currentRatio:\n",
    "                bestRatio = currentRatio\n",
    "                bestName = row['Name']\n",
    "                \n",
    "                \n",
    "    return bestName,bestRatio  "
   ]
  },
  {
   "cell_type": "code",
   "execution_count": 39,
   "metadata": {},
   "outputs": [
    {
     "name": "stdout",
     "output_type": "stream",
     "text": [
      "Name = Ecole Polytechnique Fédérale de Lausanne (EPFL), Ratio = 0.7669616519174042\n",
      "Name = London School of Economics and Political Science (LSE), Ratio = 0.6913934426229508\n"
     ]
    }
   ],
   "source": [
    "#Get the best ratio of international faculty member.\n",
    "uniWithBestFacRatio, maxIntFacRatio = getBestRatio(df,'FacultyMemberInt','FacultyMemberTot')\n",
    "print(\"Name = {n}, Ratio = {r}\".format(n=uniWithBestFacRatio,r=maxIntFacRatio))   \n",
    "\n",
    "#Get the best ratio of international student.\n",
    "uniWithBestStudRatio, maxIntStudRatio = getBestRatio(df,'StudentInt','StudentTot')\n",
    "print(\"Name = {n}, Ratio = {r}\".format(n=uniWithBestStudRatio,r=maxIntStudRatio)) "
   ]
  },
  {
   "cell_type": "code",
   "execution_count": 52,
   "metadata": {},
   "outputs": [
    {
     "name": "stdout",
     "output_type": "stream",
     "text": [
      "Name = Singapore, Ratio = 0.6436891147818721\n"
     ]
    }
   ],
   "source": [
    "#Get the list of the countries in the dataFrame\n",
    "countryStats = pd.DataFrame(columns = ['Name','FacultyMemberInt','FacultyMemberTot','StudentInt','StudentTot'])\n",
    "countries = df.Country.unique()\n",
    "\n",
    "for country in countries:\n",
    "    \n",
    "    #Delete the row with -1\n",
    "    currentCountry = df[(df.Country == country)&(df.StudentInt >=0)&(df.StudentTot >=0)&(df.FacultyMemberInt >=0)&(df.FacultyMemberTot >=0)]\n",
    "    \n",
    "    #Sum the columns\n",
    "    IntStud = currentCountry.StudentInt.sum()\n",
    "    TotStud = currentCountry.StudentTot.sum()\n",
    "    IntFac = currentCountry.FacultyMemberInt.sum()\n",
    "    TotFac = currentCountry.FacultyMemberTot.sum()\n",
    "    \n",
    "    currentCountry = [country,IntFac,TotFac,IntStud,TotStud]\n",
    "    countryStats.loc[len(countryStats)] = (currentCountry)\n",
    "    \n",
    "CountryWithBestFacRatio, maxIntFacCountryRatio = getBestRatio(countryStats,'FacultyMemberInt','FacultyMemberTot')\n",
    "print(\"Name = {n}, Ratio = {r}\".format(n=CountryWithBestFacRatio,r=maxIntFacCountryRatio)) \n",
    "\n",
    "CountryWithBestStudRatio, maxIntStudCountryRatio = getBestRatio(countryStats,'FacultyMemberInt','FacultyMemberTot')\n",
    "print(\"Name = {n}, Ratio = {r}\".format(n=CountryWithBestFacRatio,r=maxIntFacCountryRatio)) "
   ]
  }
 ],
 "metadata": {
  "kernelspec": {
   "display_name": "Python 3",
   "language": "python",
   "name": "python3"
  },
  "language_info": {
   "codemirror_mode": {
    "name": "ipython",
    "version": 3
   },
   "file_extension": ".py",
   "mimetype": "text/x-python",
   "name": "python",
   "nbconvert_exporter": "python",
   "pygments_lexer": "ipython3",
   "version": "3.6.1"
  }
 },
 "nbformat": 4,
 "nbformat_minor": 2
}
