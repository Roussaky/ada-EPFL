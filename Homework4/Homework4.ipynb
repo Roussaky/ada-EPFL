{
 "cells": [
  {
   "cell_type": "code",
   "execution_count": 1,
   "metadata": {
    "collapsed": true
   },
   "outputs": [],
   "source": [
    "import pandas as pd\n",
    "import matplotlib.pyplot as plt\n",
    "import numpy as np\n",
    "import networkx as nx\n",
    "from sklearn import linear_model\n",
    "%matplotlib inline"
   ]
  },
  {
   "cell_type": "markdown",
   "metadata": {},
   "source": [
    "# Question 1: Propensity score matching"
   ]
  },
  {
   "cell_type": "code",
   "execution_count": 14,
   "metadata": {},
   "outputs": [
    {
     "data": {
      "text/html": [
       "<div>\n",
       "<style>\n",
       "    .dataframe thead tr:only-child th {\n",
       "        text-align: right;\n",
       "    }\n",
       "\n",
       "    .dataframe thead th {\n",
       "        text-align: left;\n",
       "    }\n",
       "\n",
       "    .dataframe tbody tr th {\n",
       "        vertical-align: top;\n",
       "    }\n",
       "</style>\n",
       "<table border=\"1\" class=\"dataframe\">\n",
       "  <thead>\n",
       "    <tr style=\"text-align: right;\">\n",
       "      <th></th>\n",
       "      <th>id</th>\n",
       "      <th>treat</th>\n",
       "      <th>age</th>\n",
       "      <th>educ</th>\n",
       "      <th>black</th>\n",
       "      <th>hispan</th>\n",
       "      <th>married</th>\n",
       "      <th>nodegree</th>\n",
       "      <th>re74</th>\n",
       "      <th>re75</th>\n",
       "      <th>re78</th>\n",
       "    </tr>\n",
       "  </thead>\n",
       "  <tbody>\n",
       "    <tr>\n",
       "      <th>0</th>\n",
       "      <td>NSW1</td>\n",
       "      <td>1</td>\n",
       "      <td>37</td>\n",
       "      <td>11</td>\n",
       "      <td>1</td>\n",
       "      <td>0</td>\n",
       "      <td>1</td>\n",
       "      <td>1</td>\n",
       "      <td>0.0</td>\n",
       "      <td>0.0</td>\n",
       "      <td>9930.0460</td>\n",
       "    </tr>\n",
       "    <tr>\n",
       "      <th>1</th>\n",
       "      <td>NSW2</td>\n",
       "      <td>1</td>\n",
       "      <td>22</td>\n",
       "      <td>9</td>\n",
       "      <td>0</td>\n",
       "      <td>1</td>\n",
       "      <td>0</td>\n",
       "      <td>1</td>\n",
       "      <td>0.0</td>\n",
       "      <td>0.0</td>\n",
       "      <td>3595.8940</td>\n",
       "    </tr>\n",
       "    <tr>\n",
       "      <th>2</th>\n",
       "      <td>NSW3</td>\n",
       "      <td>1</td>\n",
       "      <td>30</td>\n",
       "      <td>12</td>\n",
       "      <td>1</td>\n",
       "      <td>0</td>\n",
       "      <td>0</td>\n",
       "      <td>0</td>\n",
       "      <td>0.0</td>\n",
       "      <td>0.0</td>\n",
       "      <td>24909.4500</td>\n",
       "    </tr>\n",
       "    <tr>\n",
       "      <th>3</th>\n",
       "      <td>NSW4</td>\n",
       "      <td>1</td>\n",
       "      <td>27</td>\n",
       "      <td>11</td>\n",
       "      <td>1</td>\n",
       "      <td>0</td>\n",
       "      <td>0</td>\n",
       "      <td>1</td>\n",
       "      <td>0.0</td>\n",
       "      <td>0.0</td>\n",
       "      <td>7506.1460</td>\n",
       "    </tr>\n",
       "    <tr>\n",
       "      <th>4</th>\n",
       "      <td>NSW5</td>\n",
       "      <td>1</td>\n",
       "      <td>33</td>\n",
       "      <td>8</td>\n",
       "      <td>1</td>\n",
       "      <td>0</td>\n",
       "      <td>0</td>\n",
       "      <td>1</td>\n",
       "      <td>0.0</td>\n",
       "      <td>0.0</td>\n",
       "      <td>289.7899</td>\n",
       "    </tr>\n",
       "  </tbody>\n",
       "</table>\n",
       "</div>"
      ],
      "text/plain": [
       "     id  treat  age  educ  black  hispan  married  nodegree  re74  re75  \\\n",
       "0  NSW1      1   37    11      1       0        1         1   0.0   0.0   \n",
       "1  NSW2      1   22     9      0       1        0         1   0.0   0.0   \n",
       "2  NSW3      1   30    12      1       0        0         0   0.0   0.0   \n",
       "3  NSW4      1   27    11      1       0        0         1   0.0   0.0   \n",
       "4  NSW5      1   33     8      1       0        0         1   0.0   0.0   \n",
       "\n",
       "         re78  \n",
       "0   9930.0460  \n",
       "1   3595.8940  \n",
       "2  24909.4500  \n",
       "3   7506.1460  \n",
       "4    289.7899  "
      ]
     },
     "execution_count": 14,
     "metadata": {},
     "output_type": "execute_result"
    }
   ],
   "source": [
    "file_name = \"lalonde.csv\"\n",
    "lalonde_data = pd.read_csv(file_name)\n",
    "lalonde_data.head()"
   ]
  },
  {
   "cell_type": "markdown",
   "metadata": {},
   "source": [
    "### Dataset description\n",
    "\n",
    "- **treat:** 1 if the subject participated in the job training program, 0 otherwise\n",
    "- **age:** the subject's age\n",
    "- **educ:** years of education\n",
    "- **race:** categorical variable with three possible values: Black, Hispanic, or White\n",
    "- **married:** 1 if the subject was married at the time of the training program, 0 otherwise\n",
    "- **nodegree:** 1 if the subject has earned no school degree, 0 otherwise\n",
    "- **re74:** real earnings in 1974 (pre-treatment)\n",
    "- **re75:** real earnings in 1975 (pre-treatment)\n",
    "- **re78:** real earnings in 1978 (outcome)"
   ]
  },
  {
   "cell_type": "code",
   "execution_count": 30,
   "metadata": {},
   "outputs": [
    {
     "data": {
      "text/html": [
       "<div>\n",
       "<style>\n",
       "    .dataframe thead tr:only-child th {\n",
       "        text-align: right;\n",
       "    }\n",
       "\n",
       "    .dataframe thead th {\n",
       "        text-align: left;\n",
       "    }\n",
       "\n",
       "    .dataframe tbody tr th {\n",
       "        vertical-align: top;\n",
       "    }\n",
       "</style>\n",
       "<table border=\"1\" class=\"dataframe\">\n",
       "  <thead>\n",
       "    <tr style=\"text-align: right;\">\n",
       "      <th></th>\n",
       "      <th>treat</th>\n",
       "      <th>age</th>\n",
       "      <th>educ</th>\n",
       "      <th>black</th>\n",
       "      <th>hispan</th>\n",
       "      <th>married</th>\n",
       "      <th>nodegree</th>\n",
       "      <th>re74</th>\n",
       "      <th>re75</th>\n",
       "      <th>re78</th>\n",
       "    </tr>\n",
       "  </thead>\n",
       "  <tbody>\n",
       "    <tr>\n",
       "      <th>count</th>\n",
       "      <td>614.000000</td>\n",
       "      <td>614.000000</td>\n",
       "      <td>614.000000</td>\n",
       "      <td>614.000000</td>\n",
       "      <td>614.000000</td>\n",
       "      <td>614.000000</td>\n",
       "      <td>614.000000</td>\n",
       "      <td>614.000000</td>\n",
       "      <td>614.000000</td>\n",
       "      <td>614.000000</td>\n",
       "    </tr>\n",
       "    <tr>\n",
       "      <th>mean</th>\n",
       "      <td>0.301303</td>\n",
       "      <td>27.363192</td>\n",
       "      <td>10.268730</td>\n",
       "      <td>0.395765</td>\n",
       "      <td>0.117264</td>\n",
       "      <td>0.415309</td>\n",
       "      <td>0.630293</td>\n",
       "      <td>4557.546569</td>\n",
       "      <td>2184.938207</td>\n",
       "      <td>6792.834483</td>\n",
       "    </tr>\n",
       "    <tr>\n",
       "      <th>std</th>\n",
       "      <td>0.459198</td>\n",
       "      <td>9.881187</td>\n",
       "      <td>2.628325</td>\n",
       "      <td>0.489413</td>\n",
       "      <td>0.321997</td>\n",
       "      <td>0.493177</td>\n",
       "      <td>0.483119</td>\n",
       "      <td>6477.964479</td>\n",
       "      <td>3295.679043</td>\n",
       "      <td>7470.730792</td>\n",
       "    </tr>\n",
       "    <tr>\n",
       "      <th>min</th>\n",
       "      <td>0.000000</td>\n",
       "      <td>16.000000</td>\n",
       "      <td>0.000000</td>\n",
       "      <td>0.000000</td>\n",
       "      <td>0.000000</td>\n",
       "      <td>0.000000</td>\n",
       "      <td>0.000000</td>\n",
       "      <td>0.000000</td>\n",
       "      <td>0.000000</td>\n",
       "      <td>0.000000</td>\n",
       "    </tr>\n",
       "    <tr>\n",
       "      <th>25%</th>\n",
       "      <td>0.000000</td>\n",
       "      <td>20.000000</td>\n",
       "      <td>9.000000</td>\n",
       "      <td>0.000000</td>\n",
       "      <td>0.000000</td>\n",
       "      <td>0.000000</td>\n",
       "      <td>0.000000</td>\n",
       "      <td>0.000000</td>\n",
       "      <td>0.000000</td>\n",
       "      <td>238.283425</td>\n",
       "    </tr>\n",
       "    <tr>\n",
       "      <th>50%</th>\n",
       "      <td>0.000000</td>\n",
       "      <td>25.000000</td>\n",
       "      <td>11.000000</td>\n",
       "      <td>0.000000</td>\n",
       "      <td>0.000000</td>\n",
       "      <td>0.000000</td>\n",
       "      <td>1.000000</td>\n",
       "      <td>1042.330000</td>\n",
       "      <td>601.548400</td>\n",
       "      <td>4759.018500</td>\n",
       "    </tr>\n",
       "    <tr>\n",
       "      <th>75%</th>\n",
       "      <td>1.000000</td>\n",
       "      <td>32.000000</td>\n",
       "      <td>12.000000</td>\n",
       "      <td>1.000000</td>\n",
       "      <td>0.000000</td>\n",
       "      <td>1.000000</td>\n",
       "      <td>1.000000</td>\n",
       "      <td>7888.498250</td>\n",
       "      <td>3248.987500</td>\n",
       "      <td>10893.592500</td>\n",
       "    </tr>\n",
       "    <tr>\n",
       "      <th>max</th>\n",
       "      <td>1.000000</td>\n",
       "      <td>55.000000</td>\n",
       "      <td>18.000000</td>\n",
       "      <td>1.000000</td>\n",
       "      <td>1.000000</td>\n",
       "      <td>1.000000</td>\n",
       "      <td>1.000000</td>\n",
       "      <td>35040.070000</td>\n",
       "      <td>25142.240000</td>\n",
       "      <td>60307.930000</td>\n",
       "    </tr>\n",
       "  </tbody>\n",
       "</table>\n",
       "</div>"
      ],
      "text/plain": [
       "            treat         age        educ       black      hispan     married  \\\n",
       "count  614.000000  614.000000  614.000000  614.000000  614.000000  614.000000   \n",
       "mean     0.301303   27.363192   10.268730    0.395765    0.117264    0.415309   \n",
       "std      0.459198    9.881187    2.628325    0.489413    0.321997    0.493177   \n",
       "min      0.000000   16.000000    0.000000    0.000000    0.000000    0.000000   \n",
       "25%      0.000000   20.000000    9.000000    0.000000    0.000000    0.000000   \n",
       "50%      0.000000   25.000000   11.000000    0.000000    0.000000    0.000000   \n",
       "75%      1.000000   32.000000   12.000000    1.000000    0.000000    1.000000   \n",
       "max      1.000000   55.000000   18.000000    1.000000    1.000000    1.000000   \n",
       "\n",
       "         nodegree          re74          re75          re78  \n",
       "count  614.000000    614.000000    614.000000    614.000000  \n",
       "mean     0.630293   4557.546569   2184.938207   6792.834483  \n",
       "std      0.483119   6477.964479   3295.679043   7470.730792  \n",
       "min      0.000000      0.000000      0.000000      0.000000  \n",
       "25%      0.000000      0.000000      0.000000    238.283425  \n",
       "50%      1.000000   1042.330000    601.548400   4759.018500  \n",
       "75%      1.000000   7888.498250   3248.987500  10893.592500  \n",
       "max      1.000000  35040.070000  25142.240000  60307.930000  "
      ]
     },
     "execution_count": 30,
     "metadata": {},
     "output_type": "execute_result"
    }
   ],
   "source": [
    "subject_Control = lalonde_data[lalonde_data.treat==0]\n",
    "subject_Treated = lalonde_data[lalonde_data.treat==1]\n",
    "lalonde_data.describe()"
   ]
  },
  {
   "cell_type": "markdown",
   "metadata": {},
   "source": [
    "## 1. A naive analysis"
   ]
  },
  {
   "cell_type": "markdown",
   "metadata": {
    "collapsed": true
   },
   "source": [
    "First, let see the real earnings distribution in 1978 for the control and treated group in a boxplot."
   ]
  },
  {
   "cell_type": "code",
   "execution_count": 31,
   "metadata": {},
   "outputs": [
    {
     "name": "stdout",
     "output_type": "stream",
     "text": [
      "Group proportion\n",
      "Control:  0.6986970684039088\n",
      "Treated:  0.30130293159609123\n"
     ]
    },
    {
     "data": {
      "image/png": "[encoded data removed]",
      "text/plain": [
       "<matplotlib.figure.Figure at 0x11f971940>"
      ]
     },
     "metadata": {},
     "output_type": "display_data"
    }
   ],
   "source": [
    "# Make the boxplot\n",
    "lalonde_data.boxplot('re78', by='treat')\n",
    "plt.xticks([1, 2], ['Control', 'Treated'])\n",
    "plt.xlabel(\"Group\")\n",
    "plt.ylabel(\"Real earnings in 78\")\n",
    "plt.title(\"Real earnings distribution by group (78)\")\n",
    "plt.suptitle(\"\")\n",
    "\n",
    "# Group proportion\n",
    "print(\"Group proportion\")\n",
    "print(\"Control: \",len(subject_Control)/len(lalonde_data))\n",
    "print(\"Treated: \",len(subject_Treated)/len(lalonde_data))"
   ]
  },
  {
   "cell_type": "markdown",
   "metadata": {},
   "source": [
    "We see that in both group, the first quartile value is 0. Let take a closer look:"
   ]
  },
  {
   "cell_type": "code",
   "execution_count": 32,
   "metadata": {},
   "outputs": [
    {
     "name": "stdout",
     "output_type": "stream",
     "text": [
      "Percentage of subject with null earnings in 78\n",
      "Control subject:  22.843822843822842\n",
      "Treated subject:  24.324324324324323\n"
     ]
    }
   ],
   "source": [
    "print(\"Percentage of subject with null earnings in 78\")\n",
    "\n",
    "#Control Group\n",
    "nullControl_re78 = len(subject_Control.re78[subject_Control.re78 == 0])\n",
    "nullControlPercentage_re78 = nullControl_re78*100/len(subject_Control)\n",
    "print(\"Control subject: \",nullControlPercentage_re78)\n",
    "\n",
    "#Treated Group\n",
    "nullTreated_re78 = len(subject_Treated.re78[subject_Treated.re78 == 0])\n",
    "nullTreatedPercentage_re78 = nullTreated_re78*100/len(subject_Treated)\n",
    "print(\"Treated subject: \",nullTreatedPercentage_re78)"
   ]
  },
  {
   "cell_type": "markdown",
   "metadata": {},
   "source": [
    "**Observation:**\n",
    "\n",
    "The distributions for both group are very similar, only few treated subjects have a big relative earnings. We can affirm that the treatment have a significant effect.\n",
    "Even the proportion of subject with zero earnings is quite the same."
   ]
  },
  {
   "cell_type": "markdown",
   "metadata": {},
   "source": [
    "## 2. A closer look at the data"
   ]
  },
  {
   "cell_type": "markdown",
   "metadata": {},
   "source": [
    "### Distribution of each continuous feature grouped by treatment group"
   ]
  },
  {
   "cell_type": "code",
   "execution_count": 33,
   "metadata": {
    "scrolled": true
   },
   "outputs": [
    {
     "data": {
      "image/png": "[encoded data removed]",
      "text/plain": [
       "<matplotlib.figure.Figure at 0x11f976f28>"
      ]
     },
     "metadata": {},
     "output_type": "display_data"
    }
   ],
   "source": [
    "#continuous parameters\n",
    "params = [\"age\", \"educ\"]\n",
    "\n",
    "#boxplot\n",
    "fig, axS = plt.subplots(1, 2, figsize=(17,6))\n",
    "for ax, param in zip(axS.flatten(), params):\n",
    "    lalonde_data.boxplot(column=param, by='treat', ax=ax)\n",
    "    ax.set_xticklabels(['Control', 'Treated'])\n",
    "    ax.set_xlabel('')\n",
    "    "
   ]
  },
  {
   "cell_type": "markdown",
   "metadata": {},
   "source": [
    "### Distribution of each discrete feature grouped by treatment group"
   ]
  },
  {
   "cell_type": "code",
   "execution_count": 34,
   "metadata": {},
   "outputs": [
    {
     "data": {
      "image/png": "[encoded data removed]",
      "text/plain": [
       "<matplotlib.figure.Figure at 0x11ee49358>"
      ]
     },
     "metadata": {},
     "output_type": "display_data"
    }
   ],
   "source": [
    "#discrete parameters\n",
    "params = [\"married\", \"black\", \"hispan\", \"nodegree\"]\n",
    "\n",
    "#boxplot\n",
    "fig, axS = plt.subplots(2, 2, figsize=(17,6))\n",
    "for ax, param in zip(axS.flatten(), params):\n",
    "    group = lalonde_data[[param, 'treat']].groupby('treat').sum()\n",
    "    group[param][0] = 100*group[param][0]/len(subject_Control)\n",
    "    group[param][1] = 100*group[param][1]/len(subject_Treated)\n",
    "    group.plot(kind='bar', ax=ax, legend=False, title=param)\n",
    "    ax.set_xticklabels(['Control', 'Treated'], rotation=0)\n",
    "    ax.set_xlabel('')"
   ]
  },
  {
   "cell_type": "markdown",
   "metadata": {},
   "source": [
    "### Distribution of real earnings grouped by treatment group"
   ]
  },
  {
   "cell_type": "code",
   "execution_count": 35,
   "metadata": {},
   "outputs": [
    {
     "data": {
      "image/png": "[encoded data removed]",
      "text/plain": [
       "<matplotlib.figure.Figure at 0x11faab400>"
      ]
     },
     "metadata": {},
     "output_type": "display_data"
    }
   ],
   "source": [
    "#continuous parameters\n",
    "params = [\"re74\", \"re75\", \"re78\"]\n",
    "\n",
    "#boxplot\n",
    "fig, axS = plt.subplots(1, 3, figsize=(17,6))\n",
    "for ax, param in zip(axS.flatten(), params):\n",
    "    lalonde_data.boxplot(column=param, by='treat', ax=ax)\n",
    "    ax.set_xticklabels(['Control', 'Treated'])\n",
    "    ax.set_xlabel('')\n",
    "    "
   ]
  },
  {
   "cell_type": "markdown",
   "metadata": {},
   "source": [
    "At first sight (naive analysis) we could say that the treatment doesn't help. But with the time perspective, we observe that the real earnings of treated subject tend to increase."
   ]
  },
  {
   "cell_type": "markdown",
   "metadata": {
    "collapsed": true
   },
   "source": [
    "## 3. A propensity score model"
   ]
  },
  {
   "cell_type": "code",
   "execution_count": 75,
   "metadata": {},
   "outputs": [
    {
     "data": {
      "text/html": [
       "<div>\n",
       "<style>\n",
       "    .dataframe thead tr:only-child th {\n",
       "        text-align: right;\n",
       "    }\n",
       "\n",
       "    .dataframe thead th {\n",
       "        text-align: left;\n",
       "    }\n",
       "\n",
       "    .dataframe tbody tr th {\n",
       "        vertical-align: top;\n",
       "    }\n",
       "</style>\n",
       "<table border=\"1\" class=\"dataframe\">\n",
       "  <thead>\n",
       "    <tr style=\"text-align: right;\">\n",
       "      <th></th>\n",
       "      <th>id</th>\n",
       "      <th>treat</th>\n",
       "      <th>age</th>\n",
       "      <th>educ</th>\n",
       "      <th>black</th>\n",
       "      <th>hispan</th>\n",
       "      <th>married</th>\n",
       "      <th>nodegree</th>\n",
       "      <th>re74</th>\n",
       "      <th>re75</th>\n",
       "      <th>re78</th>\n",
       "      <th>Propensity_score</th>\n",
       "    </tr>\n",
       "  </thead>\n",
       "  <tbody>\n",
       "    <tr>\n",
       "      <th>0</th>\n",
       "      <td>NSW1</td>\n",
       "      <td>1</td>\n",
       "      <td>37</td>\n",
       "      <td>11</td>\n",
       "      <td>1</td>\n",
       "      <td>0</td>\n",
       "      <td>1</td>\n",
       "      <td>1</td>\n",
       "      <td>0.0</td>\n",
       "      <td>0.0</td>\n",
       "      <td>9930.0460</td>\n",
       "      <td>0.443350</td>\n",
       "    </tr>\n",
       "    <tr>\n",
       "      <th>1</th>\n",
       "      <td>NSW2</td>\n",
       "      <td>1</td>\n",
       "      <td>22</td>\n",
       "      <td>9</td>\n",
       "      <td>0</td>\n",
       "      <td>1</td>\n",
       "      <td>0</td>\n",
       "      <td>1</td>\n",
       "      <td>0.0</td>\n",
       "      <td>0.0</td>\n",
       "      <td>3595.8940</td>\n",
       "      <td>0.144660</td>\n",
       "    </tr>\n",
       "    <tr>\n",
       "      <th>2</th>\n",
       "      <td>NSW3</td>\n",
       "      <td>1</td>\n",
       "      <td>30</td>\n",
       "      <td>12</td>\n",
       "      <td>1</td>\n",
       "      <td>0</td>\n",
       "      <td>0</td>\n",
       "      <td>0</td>\n",
       "      <td>0.0</td>\n",
       "      <td>0.0</td>\n",
       "      <td>24909.4500</td>\n",
       "      <td>0.722355</td>\n",
       "    </tr>\n",
       "    <tr>\n",
       "      <th>3</th>\n",
       "      <td>NSW4</td>\n",
       "      <td>1</td>\n",
       "      <td>27</td>\n",
       "      <td>11</td>\n",
       "      <td>1</td>\n",
       "      <td>0</td>\n",
       "      <td>0</td>\n",
       "      <td>1</td>\n",
       "      <td>0.0</td>\n",
       "      <td>0.0</td>\n",
       "      <td>7506.1460</td>\n",
       "      <td>0.664151</td>\n",
       "    </tr>\n",
       "    <tr>\n",
       "      <th>4</th>\n",
       "      <td>NSW5</td>\n",
       "      <td>1</td>\n",
       "      <td>33</td>\n",
       "      <td>8</td>\n",
       "      <td>1</td>\n",
       "      <td>0</td>\n",
       "      <td>0</td>\n",
       "      <td>1</td>\n",
       "      <td>0.0</td>\n",
       "      <td>0.0</td>\n",
       "      <td>289.7899</td>\n",
       "      <td>0.698286</td>\n",
       "    </tr>\n",
       "  </tbody>\n",
       "</table>\n",
       "</div>"
      ],
      "text/plain": [
       "     id  treat  age  educ  black  hispan  married  nodegree  re74  re75  \\\n",
       "0  NSW1      1   37    11      1       0        1         1   0.0   0.0   \n",
       "1  NSW2      1   22     9      0       1        0         1   0.0   0.0   \n",
       "2  NSW3      1   30    12      1       0        0         0   0.0   0.0   \n",
       "3  NSW4      1   27    11      1       0        0         1   0.0   0.0   \n",
       "4  NSW5      1   33     8      1       0        0         1   0.0   0.0   \n",
       "\n",
       "         re78  Propensity_score  \n",
       "0   9930.0460          0.443350  \n",
       "1   3595.8940          0.144660  \n",
       "2  24909.4500          0.722355  \n",
       "3   7506.1460          0.664151  \n",
       "4    289.7899          0.698286  "
      ]
     },
     "execution_count": 75,
     "metadata": {},
     "output_type": "execute_result"
    }
   ],
   "source": [
    "logistic = linear_model.LogisticRegression()\n",
    "X = lalonde_data.iloc[:,2:10]\n",
    "Y = lalonde_data.treat\n",
    "logistic = logistic.fit(X.as_matrix(),np.int64(Y.as_matrix()))\n",
    "\n",
    "lalonde_data['Propensity_score'] = logistic.predict_proba(X)[:,1]\n",
    "lalonde_data.head()"
   ]
  },
  {
   "cell_type": "markdown",
   "metadata": {},
   "source": [
    "Let's diplay the propensy score for the person who receive the treatment and whose who don't to determine how precise we are."
   ]
  },
  {
   "cell_type": "code",
   "execution_count": 76,
   "metadata": {},
   "outputs": [
    {
     "data": {
      "image/png": "[encoded data removed]",
      "text/plain": [
       "<matplotlib.figure.Figure at 0x118f36b38>"
      ]
     },
     "metadata": {},
     "output_type": "display_data"
    },
    {
     "data": {
      "image/png": "[encoded data removed]",
      "text/plain": [
       "<matplotlib.figure.Figure at 0x116813358>"
      ]
     },
     "metadata": {},
     "output_type": "display_data"
    }
   ],
   "source": [
    "lalonde_treated = lalonde_data.loc[lalonde_data[\"treat\"]==1]\n",
    "lalonde_not_treated = lalonde_data.loc[lalonde_data[\"treat\"]==0]\n",
    "\n",
    "plt.hist(lalonde_treated['Propensity_score'],bins=5)\n",
    "plt.title('Propensity score of treated person')\n",
    "plt.xlabel('Propensity score')\n",
    "plt.ylabel('Nb person')\n",
    "plt.show()\n",
    "plt.hist(lalonde_not_treated['Propensity_score'],bins=5)\n",
    "plt.title('Propensity score of not treated person')\n",
    "plt.xlabel('Propensity score')\n",
    "plt.ylabel('Nb person')\n",
    "plt.show()"
   ]
  },
  {
   "cell_type": "markdown",
   "metadata": {},
   "source": [
    "As we can see the propensy score is much bigger for the treated person."
   ]
  },
  {
   "cell_type": "markdown",
   "metadata": {},
   "source": [
    "## 4. Balancing the dataset via matching"
   ]
  },
  {
   "cell_type": "markdown",
   "metadata": {},
   "source": [
    "To build our graph we deciced to choose the following cost function which will be the weight of the edge between two nodes.\n",
    "\\begin{align}\n",
    "\\mathbf W_{i,j}= |{ps_i - ps_j}|\n",
    "\\end{align}"
   ]
  },
  {
   "cell_type": "code",
   "execution_count": 92,
   "metadata": {},
   "outputs": [
    {
     "data": {
      "text/html": [
       "<div>\n",
       "<style>\n",
       "    .dataframe thead tr:only-child th {\n",
       "        text-align: right;\n",
       "    }\n",
       "\n",
       "    .dataframe thead th {\n",
       "        text-align: left;\n",
       "    }\n",
       "\n",
       "    .dataframe tbody tr th {\n",
       "        vertical-align: top;\n",
       "    }\n",
       "</style>\n",
       "<table border=\"1\" class=\"dataframe\">\n",
       "  <thead>\n",
       "    <tr style=\"text-align: right;\">\n",
       "      <th></th>\n",
       "      <th>Treated</th>\n",
       "      <th>Control</th>\n",
       "      <th>weight</th>\n",
       "    </tr>\n",
       "  </thead>\n",
       "  <tbody>\n",
       "    <tr>\n",
       "      <th>79360</th>\n",
       "      <td>NSW185</td>\n",
       "      <td>PSID425</td>\n",
       "      <td>0.601472</td>\n",
       "    </tr>\n",
       "    <tr>\n",
       "      <th>79361</th>\n",
       "      <td>NSW185</td>\n",
       "      <td>PSID426</td>\n",
       "      <td>0.573285</td>\n",
       "    </tr>\n",
       "    <tr>\n",
       "      <th>79362</th>\n",
       "      <td>NSW185</td>\n",
       "      <td>PSID427</td>\n",
       "      <td>0.587706</td>\n",
       "    </tr>\n",
       "    <tr>\n",
       "      <th>79363</th>\n",
       "      <td>NSW185</td>\n",
       "      <td>PSID428</td>\n",
       "      <td>0.984963</td>\n",
       "    </tr>\n",
       "    <tr>\n",
       "      <th>79364</th>\n",
       "      <td>NSW185</td>\n",
       "      <td>PSID429</td>\n",
       "      <td>0.619606</td>\n",
       "    </tr>\n",
       "  </tbody>\n",
       "</table>\n",
       "</div>"
      ],
      "text/plain": [
       "      Treated  Control    weight\n",
       "79360  NSW185  PSID425  0.601472\n",
       "79361  NSW185  PSID426  0.573285\n",
       "79362  NSW185  PSID427  0.587706\n",
       "79363  NSW185  PSID428  0.984963\n",
       "79364  NSW185  PSID429  0.619606"
      ]
     },
     "execution_count": 92,
     "metadata": {},
     "output_type": "execute_result"
    }
   ],
   "source": [
    "lalonde_weights = pd.DataFrame(columns=['Treated','Control','weight'])\n",
    "\n",
    "for treated in lalonde_treated[['id','Propensity_score']].iterrows():\n",
    "    for test in lalonde_not_treated[['id','Propensity_score']].iterrows():\n",
    "        cost = np.abs(treated[1]['Propensity_score'] - test[1]['Propensity_score'])\n",
    "        lalonde_weights.loc[len(lalonde_weights)] = [treated[1]['id'],test[1]['id'], 1 - cost]\n",
    "        \n",
    "lalonde_weights.tail()"
   ]
  },
  {
   "cell_type": "markdown",
   "metadata": {},
   "source": [
    "Now we gonna build the graph and extract the best pair of nodes for each treated subjects."
   ]
  },
  {
   "cell_type": "code",
   "execution_count": 93,
   "metadata": {},
   "outputs": [
    {
     "data": {
      "text/html": [
       "<div>\n",
       "<style>\n",
       "    .dataframe thead tr:only-child th {\n",
       "        text-align: right;\n",
       "    }\n",
       "\n",
       "    .dataframe thead th {\n",
       "        text-align: left;\n",
       "    }\n",
       "\n",
       "    .dataframe tbody tr th {\n",
       "        vertical-align: top;\n",
       "    }\n",
       "</style>\n",
       "<table border=\"1\" class=\"dataframe\">\n",
       "  <thead>\n",
       "    <tr style=\"text-align: right;\">\n",
       "      <th></th>\n",
       "      <th>Treated</th>\n",
       "      <th>Control</th>\n",
       "    </tr>\n",
       "  </thead>\n",
       "  <tbody>\n",
       "    <tr>\n",
       "      <th>98</th>\n",
       "      <td>NSW1</td>\n",
       "      <td>PSID200</td>\n",
       "    </tr>\n",
       "    <tr>\n",
       "      <th>28</th>\n",
       "      <td>NSW10</td>\n",
       "      <td>PSID40</td>\n",
       "    </tr>\n",
       "    <tr>\n",
       "      <th>19</th>\n",
       "      <td>NSW100</td>\n",
       "      <td>PSID274</td>\n",
       "    </tr>\n",
       "    <tr>\n",
       "      <th>156</th>\n",
       "      <td>NSW101</td>\n",
       "      <td>PSID211</td>\n",
       "    </tr>\n",
       "    <tr>\n",
       "      <th>153</th>\n",
       "      <td>NSW102</td>\n",
       "      <td>PSID247</td>\n",
       "    </tr>\n",
       "    <tr>\n",
       "      <th>139</th>\n",
       "      <td>NSW103</td>\n",
       "      <td>PSID213</td>\n",
       "    </tr>\n",
       "    <tr>\n",
       "      <th>1</th>\n",
       "      <td>NSW104</td>\n",
       "      <td>PSID374</td>\n",
       "    </tr>\n",
       "    <tr>\n",
       "      <th>0</th>\n",
       "      <td>NSW105</td>\n",
       "      <td>PSID388</td>\n",
       "    </tr>\n",
       "    <tr>\n",
       "      <th>144</th>\n",
       "      <td>NSW106</td>\n",
       "      <td>PSID369</td>\n",
       "    </tr>\n",
       "    <tr>\n",
       "      <th>96</th>\n",
       "      <td>NSW107</td>\n",
       "      <td>PSID173</td>\n",
       "    </tr>\n",
       "    <tr>\n",
       "      <th>169</th>\n",
       "      <td>NSW108</td>\n",
       "      <td>PSID241</td>\n",
       "    </tr>\n",
       "    <tr>\n",
       "      <th>130</th>\n",
       "      <td>NSW109</td>\n",
       "      <td>PSID171</td>\n",
       "    </tr>\n",
       "    <tr>\n",
       "      <th>163</th>\n",
       "      <td>NSW11</td>\n",
       "      <td>PSID402</td>\n",
       "    </tr>\n",
       "    <tr>\n",
       "      <th>75</th>\n",
       "      <td>NSW110</td>\n",
       "      <td>PSID209</td>\n",
       "    </tr>\n",
       "    <tr>\n",
       "      <th>103</th>\n",
       "      <td>NSW111</td>\n",
       "      <td>PSID420</td>\n",
       "    </tr>\n",
       "    <tr>\n",
       "      <th>54</th>\n",
       "      <td>NSW112</td>\n",
       "      <td>PSID205</td>\n",
       "    </tr>\n",
       "    <tr>\n",
       "      <th>76</th>\n",
       "      <td>NSW113</td>\n",
       "      <td>PSID398</td>\n",
       "    </tr>\n",
       "    <tr>\n",
       "      <th>136</th>\n",
       "      <td>NSW114</td>\n",
       "      <td>PSID159</td>\n",
       "    </tr>\n",
       "    <tr>\n",
       "      <th>90</th>\n",
       "      <td>NSW115</td>\n",
       "      <td>PSID260</td>\n",
       "    </tr>\n",
       "    <tr>\n",
       "      <th>17</th>\n",
       "      <td>NSW116</td>\n",
       "      <td>PSID227</td>\n",
       "    </tr>\n",
       "    <tr>\n",
       "      <th>160</th>\n",
       "      <td>NSW117</td>\n",
       "      <td>PSID267</td>\n",
       "    </tr>\n",
       "    <tr>\n",
       "      <th>181</th>\n",
       "      <td>NSW118</td>\n",
       "      <td>PSID381</td>\n",
       "    </tr>\n",
       "    <tr>\n",
       "      <th>45</th>\n",
       "      <td>NSW119</td>\n",
       "      <td>PSID196</td>\n",
       "    </tr>\n",
       "    <tr>\n",
       "      <th>9</th>\n",
       "      <td>NSW12</td>\n",
       "      <td>PSID158</td>\n",
       "    </tr>\n",
       "    <tr>\n",
       "      <th>62</th>\n",
       "      <td>NSW120</td>\n",
       "      <td>PSID142</td>\n",
       "    </tr>\n",
       "    <tr>\n",
       "      <th>164</th>\n",
       "      <td>NSW121</td>\n",
       "      <td>PSID69</td>\n",
       "    </tr>\n",
       "    <tr>\n",
       "      <th>78</th>\n",
       "      <td>NSW122</td>\n",
       "      <td>PSID411</td>\n",
       "    </tr>\n",
       "    <tr>\n",
       "      <th>59</th>\n",
       "      <td>NSW123</td>\n",
       "      <td>PSID24</td>\n",
       "    </tr>\n",
       "    <tr>\n",
       "      <th>29</th>\n",
       "      <td>NSW124</td>\n",
       "      <td>PSID194</td>\n",
       "    </tr>\n",
       "    <tr>\n",
       "      <th>63</th>\n",
       "      <td>NSW125</td>\n",
       "      <td>PSID103</td>\n",
       "    </tr>\n",
       "    <tr>\n",
       "      <th>...</th>\n",
       "      <td>...</td>\n",
       "      <td>...</td>\n",
       "    </tr>\n",
       "    <tr>\n",
       "      <th>88</th>\n",
       "      <td>NSW72</td>\n",
       "      <td>PSID407</td>\n",
       "    </tr>\n",
       "    <tr>\n",
       "      <th>80</th>\n",
       "      <td>NSW73</td>\n",
       "      <td>PSID157</td>\n",
       "    </tr>\n",
       "    <tr>\n",
       "      <th>173</th>\n",
       "      <td>NSW74</td>\n",
       "      <td>PSID234</td>\n",
       "    </tr>\n",
       "    <tr>\n",
       "      <th>157</th>\n",
       "      <td>NSW75</td>\n",
       "      <td>PSID145</td>\n",
       "    </tr>\n",
       "    <tr>\n",
       "      <th>12</th>\n",
       "      <td>NSW76</td>\n",
       "      <td>PSID353</td>\n",
       "    </tr>\n",
       "    <tr>\n",
       "      <th>178</th>\n",
       "      <td>NSW77</td>\n",
       "      <td>PSID376</td>\n",
       "    </tr>\n",
       "    <tr>\n",
       "      <th>162</th>\n",
       "      <td>NSW78</td>\n",
       "      <td>PSID399</td>\n",
       "    </tr>\n",
       "    <tr>\n",
       "      <th>128</th>\n",
       "      <td>NSW79</td>\n",
       "      <td>PSID185</td>\n",
       "    </tr>\n",
       "    <tr>\n",
       "      <th>82</th>\n",
       "      <td>NSW8</td>\n",
       "      <td>PSID184</td>\n",
       "    </tr>\n",
       "    <tr>\n",
       "      <th>149</th>\n",
       "      <td>NSW80</td>\n",
       "      <td>PSID414</td>\n",
       "    </tr>\n",
       "    <tr>\n",
       "      <th>172</th>\n",
       "      <td>NSW81</td>\n",
       "      <td>PSID221</td>\n",
       "    </tr>\n",
       "    <tr>\n",
       "      <th>180</th>\n",
       "      <td>NSW82</td>\n",
       "      <td>PSID278</td>\n",
       "    </tr>\n",
       "    <tr>\n",
       "      <th>25</th>\n",
       "      <td>NSW83</td>\n",
       "      <td>PSID336</td>\n",
       "    </tr>\n",
       "    <tr>\n",
       "      <th>99</th>\n",
       "      <td>NSW84</td>\n",
       "      <td>PSID365</td>\n",
       "    </tr>\n",
       "    <tr>\n",
       "      <th>35</th>\n",
       "      <td>NSW85</td>\n",
       "      <td>PSID27</td>\n",
       "    </tr>\n",
       "    <tr>\n",
       "      <th>129</th>\n",
       "      <td>NSW86</td>\n",
       "      <td>PSID31</td>\n",
       "    </tr>\n",
       "    <tr>\n",
       "      <th>65</th>\n",
       "      <td>NSW87</td>\n",
       "      <td>PSID371</td>\n",
       "    </tr>\n",
       "    <tr>\n",
       "      <th>135</th>\n",
       "      <td>NSW88</td>\n",
       "      <td>PSID261</td>\n",
       "    </tr>\n",
       "    <tr>\n",
       "      <th>37</th>\n",
       "      <td>NSW89</td>\n",
       "      <td>PSID258</td>\n",
       "    </tr>\n",
       "    <tr>\n",
       "      <th>32</th>\n",
       "      <td>NSW9</td>\n",
       "      <td>PSID277</td>\n",
       "    </tr>\n",
       "    <tr>\n",
       "      <th>57</th>\n",
       "      <td>NSW90</td>\n",
       "      <td>PSID370</td>\n",
       "    </tr>\n",
       "    <tr>\n",
       "      <th>107</th>\n",
       "      <td>NSW91</td>\n",
       "      <td>PSID270</td>\n",
       "    </tr>\n",
       "    <tr>\n",
       "      <th>2</th>\n",
       "      <td>NSW92</td>\n",
       "      <td>PSID392</td>\n",
       "    </tr>\n",
       "    <tr>\n",
       "      <th>140</th>\n",
       "      <td>NSW93</td>\n",
       "      <td>PSID368</td>\n",
       "    </tr>\n",
       "    <tr>\n",
       "      <th>81</th>\n",
       "      <td>NSW94</td>\n",
       "      <td>PSID140</td>\n",
       "    </tr>\n",
       "    <tr>\n",
       "      <th>93</th>\n",
       "      <td>NSW95</td>\n",
       "      <td>PSID48</td>\n",
       "    </tr>\n",
       "    <tr>\n",
       "      <th>15</th>\n",
       "      <td>NSW96</td>\n",
       "      <td>PSID366</td>\n",
       "    </tr>\n",
       "    <tr>\n",
       "      <th>167</th>\n",
       "      <td>NSW97</td>\n",
       "      <td>PSID308</td>\n",
       "    </tr>\n",
       "    <tr>\n",
       "      <th>166</th>\n",
       "      <td>NSW98</td>\n",
       "      <td>PSID238</td>\n",
       "    </tr>\n",
       "    <tr>\n",
       "      <th>154</th>\n",
       "      <td>NSW99</td>\n",
       "      <td>PSID15</td>\n",
       "    </tr>\n",
       "  </tbody>\n",
       "</table>\n",
       "<p>185 rows × 2 columns</p>\n",
       "</div>"
      ],
      "text/plain": [
       "    Treated  Control\n",
       "98     NSW1  PSID200\n",
       "28    NSW10   PSID40\n",
       "19   NSW100  PSID274\n",
       "156  NSW101  PSID211\n",
       "153  NSW102  PSID247\n",
       "139  NSW103  PSID213\n",
       "1    NSW104  PSID374\n",
       "0    NSW105  PSID388\n",
       "144  NSW106  PSID369\n",
       "96   NSW107  PSID173\n",
       "169  NSW108  PSID241\n",
       "130  NSW109  PSID171\n",
       "163   NSW11  PSID402\n",
       "75   NSW110  PSID209\n",
       "103  NSW111  PSID420\n",
       "54   NSW112  PSID205\n",
       "76   NSW113  PSID398\n",
       "136  NSW114  PSID159\n",
       "90   NSW115  PSID260\n",
       "17   NSW116  PSID227\n",
       "160  NSW117  PSID267\n",
       "181  NSW118  PSID381\n",
       "45   NSW119  PSID196\n",
       "9     NSW12  PSID158\n",
       "62   NSW120  PSID142\n",
       "164  NSW121   PSID69\n",
       "78   NSW122  PSID411\n",
       "59   NSW123   PSID24\n",
       "29   NSW124  PSID194\n",
       "63   NSW125  PSID103\n",
       "..      ...      ...\n",
       "88    NSW72  PSID407\n",
       "80    NSW73  PSID157\n",
       "173   NSW74  PSID234\n",
       "157   NSW75  PSID145\n",
       "12    NSW76  PSID353\n",
       "178   NSW77  PSID376\n",
       "162   NSW78  PSID399\n",
       "128   NSW79  PSID185\n",
       "82     NSW8  PSID184\n",
       "149   NSW80  PSID414\n",
       "172   NSW81  PSID221\n",
       "180   NSW82  PSID278\n",
       "25    NSW83  PSID336\n",
       "99    NSW84  PSID365\n",
       "35    NSW85   PSID27\n",
       "129   NSW86   PSID31\n",
       "65    NSW87  PSID371\n",
       "135   NSW88  PSID261\n",
       "37    NSW89  PSID258\n",
       "32     NSW9  PSID277\n",
       "57    NSW90  PSID370\n",
       "107   NSW91  PSID270\n",
       "2     NSW92  PSID392\n",
       "140   NSW93  PSID368\n",
       "81    NSW94  PSID140\n",
       "93    NSW95   PSID48\n",
       "15    NSW96  PSID366\n",
       "167   NSW97  PSID308\n",
       "166   NSW98  PSID238\n",
       "154   NSW99   PSID15\n",
       "\n",
       "[185 rows x 2 columns]"
      ]
     },
     "execution_count": 93,
     "metadata": {},
     "output_type": "execute_result"
    }
   ],
   "source": [
    "G = nx.from_pandas_dataframe(lalonde_weights, 'Treated', 'Control', 'weight')\n",
    "best_matches = nx.max_weight_matching(G, maxcardinality=True)\n",
    "\n",
    "#We store the bestmatches in a panda df.\n",
    "lalonde_matches = pd.DataFrame(columns=['Treated','Control'])\n",
    "for (key,value) in best_matches.items():\n",
    "    if \"NSW\" in key:\n",
    "        lalonde_matches.loc[len(lalonde_matches)] = [key,value]\n",
    "lalonde_matches = lalonde_matches.sort_values(by=\"Treated\")\n",
    "lalonde_matches.head()"
   ]
  },
  {
   "cell_type": "markdown",
   "metadata": {},
   "source": [
    "Now that we got the best matches we gonna their respective re78 to compare them."
   ]
  },
  {
   "cell_type": "code",
   "execution_count": 94,
   "metadata": {},
   "outputs": [
    {
     "data": {
      "text/html": [
       "<div>\n",
       "<style>\n",
       "    .dataframe thead tr:only-child th {\n",
       "        text-align: right;\n",
       "    }\n",
       "\n",
       "    .dataframe thead th {\n",
       "        text-align: left;\n",
       "    }\n",
       "\n",
       "    .dataframe tbody tr th {\n",
       "        vertical-align: top;\n",
       "    }\n",
       "</style>\n",
       "<table border=\"1\" class=\"dataframe\">\n",
       "  <thead>\n",
       "    <tr style=\"text-align: right;\">\n",
       "      <th></th>\n",
       "      <th>Treated</th>\n",
       "      <th>Control</th>\n",
       "      <th>re78_Treated</th>\n",
       "      <th>re78_Control</th>\n",
       "    </tr>\n",
       "  </thead>\n",
       "  <tbody>\n",
       "    <tr>\n",
       "      <th>98</th>\n",
       "      <td>NSW1</td>\n",
       "      <td>PSID200</td>\n",
       "      <td>9930.046</td>\n",
       "      <td>0.0000</td>\n",
       "    </tr>\n",
       "    <tr>\n",
       "      <th>28</th>\n",
       "      <td>NSW10</td>\n",
       "      <td>PSID40</td>\n",
       "      <td>12418.070</td>\n",
       "      <td>12104.0600</td>\n",
       "    </tr>\n",
       "    <tr>\n",
       "      <th>19</th>\n",
       "      <td>NSW100</td>\n",
       "      <td>PSID274</td>\n",
       "      <td>26817.600</td>\n",
       "      <td>7503.8960</td>\n",
       "    </tr>\n",
       "    <tr>\n",
       "      <th>156</th>\n",
       "      <td>NSW101</td>\n",
       "      <td>PSID211</td>\n",
       "      <td>0.000</td>\n",
       "      <td>15554.5500</td>\n",
       "    </tr>\n",
       "    <tr>\n",
       "      <th>153</th>\n",
       "      <td>NSW102</td>\n",
       "      <td>PSID247</td>\n",
       "      <td>9265.788</td>\n",
       "      <td>642.8111</td>\n",
       "    </tr>\n",
       "  </tbody>\n",
       "</table>\n",
       "</div>"
      ],
      "text/plain": [
       "    Treated  Control  re78_Treated  re78_Control\n",
       "98     NSW1  PSID200      9930.046        0.0000\n",
       "28    NSW10   PSID40     12418.070    12104.0600\n",
       "19   NSW100  PSID274     26817.600     7503.8960\n",
       "156  NSW101  PSID211         0.000    15554.5500\n",
       "153  NSW102  PSID247      9265.788      642.8111"
      ]
     },
     "execution_count": 94,
     "metadata": {},
     "output_type": "execute_result"
    }
   ],
   "source": [
    "#To save us some time we decided to set the index of the df as the previous Id column to save us some time\n",
    "lalonde_indexed = lalonde_data.set_index('id')\n",
    "\n",
    "#We add the re78 of the treated and test sample for each match.\n",
    "lalonde_matches['re78_Treated']  = list(lalonde_indexed.loc[lalonde_matches['Treated']]['re78'])\n",
    "lalonde_matches['re78_Control']  = list(lalonde_indexed.loc[lalonde_matches['Control']]['re78'])\n",
    "lalonde_matches.head()"
   ]
  },
  {
   "cell_type": "code",
   "execution_count": 103,
   "metadata": {},
   "outputs": [
    {
     "data": {
      "image/png": "[encoded data removed]",
      "text/plain": [
       "<matplotlib.figure.Figure at 0x11a953668>"
      ]
     },
     "metadata": {},
     "output_type": "display_data"
    }
   ],
   "source": [
    "#boxplot\n",
    "#continuous parameters\n",
    "params = [\"re78_Treated\", \"re78_Control\"]\n",
    "fig, axS = plt.subplots(1, 3, figsize=(17,6))\n",
    "for ax, param in zip(axS.flatten(), params):\n",
    "    lalonde_matches.boxplot(column=param, ax=ax)\n",
    "    \n",
    "    \n",
    "plt.plot(lalonde_matches['re78_Treated'],lalonde_matches['re78_Control'],'.')\n",
    "\n",
    "plt.show()"
   ]
  },
  {
   "cell_type": "markdown",
   "metadata": {},
   "source": [
    "# Question 2:"
   ]
  },
  {
   "cell_type": "code",
   "execution_count": 40,
   "metadata": {
    "collapsed": true
   },
   "outputs": [],
   "source": [
    "from sklearn.datasets import fetch_20newsgroups\n",
    "from sklearn.feature_extraction.text import TfidfVectorizer\n",
    "from sklearn.model_selection import train_test_split\n",
    "from sklearn.ensemble import RandomForestClassifier\n",
    "from sklearn.metrics import confusion_matrix\n",
    "from sklearn.model_selection import cross_val_score\n",
    "from sklearn.model_selection import GridSearchCV"
   ]
  },
  {
   "cell_type": "markdown",
   "metadata": {},
   "source": [
    "# Q2.1\n",
    "\n",
    "* Loading dataset "
   ]
  },
  {
   "cell_type": "code",
   "execution_count": 41,
   "metadata": {
    "collapsed": true
   },
   "outputs": [],
   "source": [
    "newsgroups = fetch_20newsgroups()"
   ]
  },
  {
   "cell_type": "markdown",
   "metadata": {},
   "source": [
    "* newsgroups.description : 'the 20 newsgroups by date dataset'\n",
    "* newsgroups.filenames : \n",
    "    * ../20news_home/20news-bydate-train/rec.autos/102994',\n",
    "    * ../20news_home/20news-bydate-train/comp.sys.mac.hardware/51861'\n",
    "    * .."
   ]
  },
  {
   "cell_type": "code",
   "execution_count": 42,
   "metadata": {},
   "outputs": [
    {
     "data": {
      "text/plain": [
       "\"From: lerxst@wam.umd.edu (where's my thing)\\nSubject: WHAT car is this!?\\nNntp-Posting-Host: rac3.wam.umd.edu\\nOrganization: University of Maryland, College Park\\nLines: 15\\n\\n I was wondering if anyone out there could enlighten me on this car I saw\\nthe other day. It was a 2-door sports car, looked to be from the late 60s/\\nearly 70s. It was called a Bricklin. The doors were really small. In addition,\\nthe front bumper was separate from the rest of the body. This is \\nall I know. If anyone can tellme a model name, engine specs, years\\nof production, where this car is made, history, or whatever info you\\nhave on this funky looking car, please e-mail.\\n\\nThanks,\\n- IL\\n   ---- brought to you by your neighborhood Lerxst ----\\n\\n\\n\\n\\n\""
      ]
     },
     "execution_count": 42,
     "metadata": {},
     "output_type": "execute_result"
    }
   ],
   "source": [
    "newsgroups.data[0]"
   ]
  },
  {
   "cell_type": "markdown",
   "metadata": {},
   "source": [
    "* We are using TF_IDF. (for more details https://fr.wikipedia.org/wiki/TF-IDF )"
   ]
  },
  {
   "cell_type": "code",
   "execution_count": 43,
   "metadata": {},
   "outputs": [
    {
     "data": {
      "text/plain": [
       "(11314, 130107)"
      ]
     },
     "execution_count": 43,
     "metadata": {},
     "output_type": "execute_result"
    }
   ],
   "source": [
    "vectorizer = TfidfVectorizer()\n",
    "vectors = vectorizer.fit_transform(newsgroups.data)\n",
    "vectors.shape\n",
    "#len(vectorizer.vocabulary_)"
   ]
  },
  {
   "cell_type": "markdown",
   "metadata": {},
   "source": [
    "* 11314: total number of documents (filename)\n",
    "* 130107: total number of unique word"
   ]
  },
  {
   "cell_type": "code",
   "execution_count": 44,
   "metadata": {},
   "outputs": [
    {
     "data": {
      "text/plain": [
       "157.9958458546933"
      ]
     },
     "execution_count": 44,
     "metadata": {},
     "output_type": "execute_result"
    }
   ],
   "source": [
    "# We see that this matrix is very sparse\n",
    "vectors.nnz / float(vectors.shape[0])"
   ]
  },
  {
   "cell_type": "code",
   "execution_count": 45,
   "metadata": {},
   "outputs": [
    {
     "data": {
      "text/plain": [
       "array([ 0.06332604,  0.14155753,  0.13874908,  0.0953487 ,  0.03709893,\n",
       "        0.10278592,  0.02991186,  0.0871642 ,  0.16713176,  0.09353931,\n",
       "        0.13280753,  0.03770449,  0.0690878 ,  0.0343176 ,  0.38133891,\n",
       "        0.07801368,  0.04951999,  0.06621689,  0.10015015,  0.11603643,\n",
       "        0.0845253 ,  0.05461429,  0.09714744,  0.13412921,  0.05747015,\n",
       "        0.08646963,  0.1558717 ,  0.02921528,  0.08342748,  0.03542092,\n",
       "        0.06363421,  0.09785516,  0.02245166,  0.07313444,  0.07325812,\n",
       "        0.05097865,  0.04280825,  0.09219024,  0.35383501,  0.01921946,\n",
       "        0.09036441,  0.0690878 ,  0.06339409,  0.05989857,  0.10936401,\n",
       "        0.03955173,  0.08844382,  0.03696979,  0.07000411,  0.13157119,\n",
       "        0.03567186,  0.06521174,  0.05715821,  0.03188937,  0.01992886,\n",
       "        0.0454964 ,  0.04114286,  0.09913274,  0.05545703,  0.03447138,\n",
       "        0.10826904,  0.16068606,  0.05666562,  0.08171219,  0.0846283 ,\n",
       "        0.09869735,  0.07526016,  0.10844725,  0.10809248,  0.01915672,\n",
       "        0.17691751,  0.05511105,  0.12287763,  0.03671831,  0.06214071,\n",
       "        0.14447276,  0.04247263,  0.21186807,  0.03708598,  0.25970902,\n",
       "        0.14534719,  0.04943756,  0.03685429,  0.08207027,  0.10798795,\n",
       "        0.0888257 ,  0.0606221 ,  0.05922294,  0.04278499])"
      ]
     },
     "execution_count": 45,
     "metadata": {},
     "output_type": "execute_result"
    }
   ],
   "source": [
    "first_news = vectors.toarray()[0]\n",
    "first_news[np.nonzero(first_news)]"
   ]
  },
  {
   "cell_type": "code",
   "execution_count": 46,
   "metadata": {
    "collapsed": true
   },
   "outputs": [],
   "source": [
    "y = newsgroups.target\n",
    "X = vectors\n",
    "X_train, X_test, y_train, y_test = train_test_split(X, y, test_size=0.1)\n",
    "X_train, X_validation, y_train, y_validation = train_test_split(X_train, y_train, test_size=0.1)"
   ]
  },
  {
   "cell_type": "markdown",
   "metadata": {},
   "source": [
    "* Tried to compare for the first news, words with the 10 highest tf-idf score and the news label"
   ]
  },
  {
   "cell_type": "code",
   "execution_count": 47,
   "metadata": {},
   "outputs": [
    {
     "name": "stdout",
     "output_type": "stream",
     "text": [
      "the 10 words with the highest tf-idf score: \n",
      "shinobi\n",
      "3719\n",
      "iud\n",
      "thunderforce\n",
      "stanford\n",
      "alexander\n",
      "games\n",
      "genesis\n",
      "sega\n",
      "hinds\n",
      "The true label is: misc.forsale\n"
     ]
    }
   ],
   "source": [
    "print(\"the 10 words with the highest tf-idf score: \")\n",
    "for ind in np.argsort(X_train.toarray()[0])[-10:]:\n",
    "    print(list(vectorizer.vocabulary_.keys())[list(vectorizer.vocabulary_.values()).index(ind)])\n",
    "# True Label\n",
    "print(\"The true label is: %s\"%(newsgroups.target_names[y_train[0]]))"
   ]
  },
  {
   "cell_type": "markdown",
   "metadata": {},
   "source": [
    "# Q2.2"
   ]
  },
  {
   "cell_type": "markdown",
   "metadata": {},
   "source": [
    "* First we train a blind randomForest model¶"
   ]
  },
  {
   "cell_type": "code",
   "execution_count": 48,
   "metadata": {},
   "outputs": [
    {
     "name": "stdout",
     "output_type": "stream",
     "text": [
      "Accuracy : 0.636926\n"
     ]
    }
   ],
   "source": [
    "clf = RandomForestClassifier(random_state=20) \n",
    "clf.fit(X_train, y_train) \n",
    "print(\"Accuracy : %f\"%(clf.score(X_test,y_test)))"
   ]
  },
  {
   "cell_type": "markdown",
   "metadata": {},
   "source": [
    "* Set the parameters by cross-validation"
   ]
  },
  {
   "cell_type": "code",
   "execution_count": 51,
   "metadata": {},
   "outputs": [
    {
     "name": "stdout",
     "output_type": "stream",
     "text": [
      "Best parameters set found on development set:\n"
     ]
    },
    {
     "ename": "AttributeError",
     "evalue": "'GridSearchCV' object has no attribute 'bestparams'",
     "output_type": "error",
     "traceback": [
      "\u001b[0;31m---------------------------------------------------------------------------\u001b[0m",
      "\u001b[0;31mAttributeError\u001b[0m                            Traceback (most recent call last)",
      "\u001b[0;32m<ipython-input-51-9bcf11d8fc7e>\u001b[0m in \u001b[0;36m<module>\u001b[0;34m()\u001b[0m\n\u001b[1;32m      4\u001b[0m \u001b[0mclf\u001b[0m\u001b[0;34m.\u001b[0m\u001b[0mfit\u001b[0m\u001b[0;34m(\u001b[0m\u001b[0mX_validation\u001b[0m\u001b[0;34m,\u001b[0m \u001b[0my_validation\u001b[0m\u001b[0;34m)\u001b[0m\u001b[0;34m\u001b[0m\u001b[0m\n\u001b[1;32m      5\u001b[0m \u001b[0mprint\u001b[0m\u001b[0;34m(\u001b[0m\u001b[0;34m\"Best parameters set found on development set:\"\u001b[0m\u001b[0;34m)\u001b[0m\u001b[0;34m\u001b[0m\u001b[0m\n\u001b[0;32m----> 6\u001b[0;31m \u001b[0mprint\u001b[0m\u001b[0;34m(\u001b[0m\u001b[0mclf\u001b[0m\u001b[0;34m.\u001b[0m\u001b[0mbestparams\u001b[0m\u001b[0;34m)\u001b[0m\u001b[0;34m\u001b[0m\u001b[0m\n\u001b[0m\u001b[1;32m      7\u001b[0m \u001b[0mprint\u001b[0m\u001b[0;34m(\u001b[0m\u001b[0;34m\"Grid scores on development set:\"\u001b[0m\u001b[0;34m)\u001b[0m\u001b[0;34m\u001b[0m\u001b[0m\n\u001b[1;32m      8\u001b[0m \u001b[0mmeans\u001b[0m \u001b[0;34m=\u001b[0m \u001b[0mclf\u001b[0m\u001b[0;34m.\u001b[0m\u001b[0mcvresults\u001b[0m\u001b[0;34m[\u001b[0m\u001b[0;34m'mean_test_score'\u001b[0m\u001b[0;34m]\u001b[0m\u001b[0;34m\u001b[0m\u001b[0m\n",
      "\u001b[0;31mAttributeError\u001b[0m: 'GridSearchCV' object has no attribute 'bestparams'"
     ]
    }
   ],
   "source": [
    "tuned_parameters = {'max_depth': [2,3,4,5], 'n_estimators': [100,500,900,1000,1200,1300,1400]} \n",
    "clf = RandomForestClassifier(random_state=20) \n",
    "clf = GridSearchCV(clf, tuned_parameters, cv=5) \n",
    "clf.fit(X_validation, y_validation)"
   ]
  },
  {
   "cell_type": "code",
   "execution_count": 57,
   "metadata": {},
   "outputs": [
    {
     "name": "stdout",
     "output_type": "stream",
     "text": [
      "Best parameters set found on development set:\n",
      "{'max_depth': 5, 'n_estimators': 1400}\n",
      "Grid scores on development set:\n",
      "0.294 (+/-0.037) for {'max_depth': 2, 'n_estimators': 100}\n",
      "0.295 (+/-0.020) for {'max_depth': 2, 'n_estimators': 500}\n",
      "0.299 (+/-0.025) for {'max_depth': 2, 'n_estimators': 900}\n",
      "0.295 (+/-0.024) for {'max_depth': 2, 'n_estimators': 1000}\n",
      "0.299 (+/-0.042) for {'max_depth': 2, 'n_estimators': 1200}\n",
      "0.296 (+/-0.048) for {'max_depth': 2, 'n_estimators': 1300}\n",
      "0.295 (+/-0.037) for {'max_depth': 2, 'n_estimators': 1400}\n",
      "0.363 (+/-0.053) for {'max_depth': 3, 'n_estimators': 100}\n",
      "0.382 (+/-0.033) for {'max_depth': 3, 'n_estimators': 500}\n",
      "0.380 (+/-0.030) for {'max_depth': 3, 'n_estimators': 900}\n",
      "0.385 (+/-0.033) for {'max_depth': 3, 'n_estimators': 1000}\n",
      "0.380 (+/-0.040) for {'max_depth': 3, 'n_estimators': 1200}\n",
      "0.388 (+/-0.045) for {'max_depth': 3, 'n_estimators': 1300}\n",
      "0.388 (+/-0.048) for {'max_depth': 3, 'n_estimators': 1400}\n",
      "0.433 (+/-0.081) for {'max_depth': 4, 'n_estimators': 100}\n",
      "0.429 (+/-0.093) for {'max_depth': 4, 'n_estimators': 500}\n",
      "0.445 (+/-0.061) for {'max_depth': 4, 'n_estimators': 900}\n",
      "0.445 (+/-0.055) for {'max_depth': 4, 'n_estimators': 1000}\n",
      "0.446 (+/-0.069) for {'max_depth': 4, 'n_estimators': 1200}\n",
      "0.447 (+/-0.072) for {'max_depth': 4, 'n_estimators': 1300}\n",
      "0.451 (+/-0.062) for {'max_depth': 4, 'n_estimators': 1400}\n",
      "0.470 (+/-0.087) for {'max_depth': 5, 'n_estimators': 100}\n",
      "0.486 (+/-0.070) for {'max_depth': 5, 'n_estimators': 500}\n",
      "0.496 (+/-0.054) for {'max_depth': 5, 'n_estimators': 900}\n",
      "0.494 (+/-0.064) for {'max_depth': 5, 'n_estimators': 1000}\n",
      "0.499 (+/-0.065) for {'max_depth': 5, 'n_estimators': 1200}\n",
      "0.498 (+/-0.061) for {'max_depth': 5, 'n_estimators': 1300}\n",
      "0.501 (+/-0.066) for {'max_depth': 5, 'n_estimators': 1400}\n"
     ]
    }
   ],
   "source": [
    "print(\"Best parameters set found on development set:\") \n",
    "print(clf.best_params_) \n",
    "print(\"Grid scores on development set:\") \n",
    "means = clf.cv_results_['mean_test_score'] \n",
    "stds = clf.cv_results_['std_test_score'] \n",
    "for mean, std, params in zip(means, stds, clf.cv_results_['params']): \n",
    "    print(\"%0.3f (+/-%0.03f) for %r\"% (mean, std * 2, params))"
   ]
  },
  {
   "cell_type": "markdown",
   "metadata": {
    "collapsed": true
   },
   "source": [
    "* Selected model"
   ]
  },
  {
   "cell_type": "code",
   "execution_count": 59,
   "metadata": {},
   "outputs": [
    {
     "name": "stdout",
     "output_type": "stream",
     "text": [
      "View the prediction for the 10 doc\n",
      "true label: 3.000000 , predicted label: 3.000000 \n"
     ]
    }
   ],
   "source": [
    "MAX_DEPTH = clf.best_params_['max_depth'] \n",
    "N_ESTM = clf.best_params_['n_estimators']\n",
    "\n",
    "clf = RandomForestClassifier(max_depth=MAX_DEPTH,n_estimators=N_ESTM,random_state=20) \n",
    "clf.fit(X_train, y_train)\n",
    "clf.score(X_test,y_test)\n",
    "print(\"View the prediction for the 10 doc\") \n",
    "print(\"true label: %f , predicted label: %f \"% (y_test[10],clf.predict(X_test[10])))"
   ]
  },
  {
   "cell_type": "markdown",
   "metadata": {
    "collapsed": true
   },
   "source": [
    "* By definition a confusion matrix C is such that C_{i, j} is equal to the number of observations known to be in group i but predicted to be in group j."
   ]
  },
  {
   "cell_type": "code",
   "execution_count": 60,
   "metadata": {},
   "outputs": [
    {
     "data": {
      "text/plain": [
       "array([[23,  0,  0,  0,  0,  0,  4,  0,  0,  0,  0,  0,  3,  0,  1, 18,  0,\n",
       "         2,  0,  0],\n",
       "       [ 0, 39,  4,  2,  4,  2, 15,  1,  0,  0,  0,  1,  0,  0,  0,  0,  0,\n",
       "         0,  0,  0],\n",
       "       [ 0,  0, 36,  6,  1,  2,  9,  1,  0,  0,  0,  0,  1,  0,  1,  1,  0,\n",
       "         0,  0,  0],\n",
       "       [ 0,  0,  6, 33,  1,  0, 17,  1,  0,  0,  0,  0,  0,  1,  0,  0,  0,\n",
       "         0,  0,  0],\n",
       "       [ 0,  0,  0,  2, 37,  0,  6,  0,  0,  1,  0,  0,  1,  0,  0,  0,  0,\n",
       "         0,  0,  0],\n",
       "       [ 0,  2,  1,  0,  0, 50, 10,  0,  0,  0,  0,  1,  0,  1,  2,  0,  0,\n",
       "         0,  0,  0],\n",
       "       [ 0,  0,  2,  0,  0,  0, 43,  0,  0,  1,  0,  0,  1,  0,  1,  0,  0,\n",
       "         0,  0,  0],\n",
       "       [ 0,  1,  0,  0,  0,  0,  7, 39,  1,  0,  0,  0,  2,  0,  1,  1,  1,\n",
       "         0,  0,  0],\n",
       "       [ 0,  0,  0,  0,  0,  0,  5,  2, 53,  0,  0,  1,  1,  0,  1,  0,  0,\n",
       "         0,  0,  0],\n",
       "       [ 0,  0,  0,  0,  0,  0,  5,  0,  0, 53,  1,  0,  0,  0,  0,  0,  0,\n",
       "         0,  0,  0],\n",
       "       [ 0,  0,  0,  0,  0,  0,  4,  0,  0,  2, 63,  0,  0,  2,  0,  0,  0,\n",
       "         0,  0,  0],\n",
       "       [ 0,  1,  0,  0,  1,  0,  1,  0,  0,  0,  0, 65,  1,  1,  0,  0,  0,\n",
       "         0,  0,  0],\n",
       "       [ 0,  3,  0,  2,  2,  0, 10,  5,  0,  0,  0,  4, 24,  1,  4,  0,  1,\n",
       "         0,  0,  0],\n",
       "       [ 0,  1,  0,  0,  0,  0, 16,  1,  0,  1,  0,  0,  2, 39,  1,  0,  0,\n",
       "         0,  0,  0],\n",
       "       [ 0,  0,  0,  0,  0,  2,  2,  0,  0,  1,  0,  0,  2,  0, 57,  0,  0,\n",
       "         0,  0,  0],\n",
       "       [ 0,  0,  0,  0,  0,  0,  2,  0,  0,  0,  1,  0,  0,  0,  0, 51,  0,\n",
       "         1,  0,  0],\n",
       "       [ 0,  0,  0,  0,  0,  0,  2,  0,  0,  0,  0,  2,  0,  0,  1,  1, 43,\n",
       "         0,  0,  0],\n",
       "       [ 0,  0,  0,  0,  0,  0,  3,  0,  0,  0,  0,  0,  0,  1,  0,  0,  0,\n",
       "        37,  0,  0],\n",
       "       [ 0,  0,  0,  0,  0,  0,  4,  3,  0,  3,  2,  2,  1,  3,  0,  9, 10,\n",
       "         7,  8,  0],\n",
       "       [ 0,  0,  0,  0,  2,  0,  3,  1,  1,  1,  0,  1,  1,  2,  0, 26,  0,\n",
       "         2,  0,  0]])"
      ]
     },
     "execution_count": 60,
     "metadata": {},
     "output_type": "execute_result"
    }
   ],
   "source": [
    "confusion_matrix(y_test,clf.predict(X_test))"
   ]
  },
  {
   "cell_type": "code",
   "execution_count": 62,
   "metadata": {},
   "outputs": [
    {
     "name": "stdout",
     "output_type": "stream",
     "text": [
      "[ 0.00011073  0.00010693  0.         ...,  0.          0.          0.        ]\n"
     ]
    }
   ],
   "source": [
    "print(clf.feature_importances_)"
   ]
  },
  {
   "cell_type": "markdown",
   "metadata": {},
   "source": [
    "The feature importances show us the most important keyword that influence the classification. "
   ]
  },
  {
   "cell_type": "code",
   "execution_count": 68,
   "metadata": {},
   "outputs": [
    {
     "name": "stdout",
     "output_type": "stream",
     "text": [
      "god\n",
      "key\n",
      "escrow\n",
      "nhl\n",
      "rutgers\n",
      "crypto\n",
      "bikes\n",
      "baseball\n",
      "athos\n",
      "israel\n",
      "bike\n",
      "car\n",
      "encryption\n",
      "israeli\n",
      "hockey\n",
      "gun\n",
      "sale\n",
      "space\n",
      "clipper\n",
      "dod\n"
     ]
    }
   ],
   "source": [
    "#top 20 most important words\n",
    "for ind in np.argsort(clf.feature_importances_)[-20:]:\n",
    "    print(list(vectorizer.vocabulary_.keys())[list(vectorizer.vocabulary_.values()).index(ind)])"
   ]
  },
  {
   "cell_type": "code",
   "execution_count": null,
   "metadata": {
    "collapsed": true
   },
   "outputs": [],
   "source": []
  }
 ],
 "metadata": {
  "kernelspec": {
   "display_name": "Python 3",
   "language": "python",
   "name": "python3"
  },
  "language_info": {
   "codemirror_mode": {
    "name": "ipython",
    "version": 3
   },
   "file_extension": ".py",
   "mimetype": "text/x-python",
   "name": "python",
   "nbconvert_exporter": "python",
   "pygments_lexer": "ipython3",
   "version": "3.6.1"
  }
 },
 "nbformat": 4,
 "nbformat_minor": 2
}
