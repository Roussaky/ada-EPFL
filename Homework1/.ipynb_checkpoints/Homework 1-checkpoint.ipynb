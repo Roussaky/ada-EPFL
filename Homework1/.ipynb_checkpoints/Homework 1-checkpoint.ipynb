{
 "cells": [
  {
   "cell_type": "markdown",
   "metadata": {},
   "source": [
    "# Table of Contents\n",
    " <p><div class=\"lev1\"><a href=\"#Task-1.-Compiling-Ebola-Data\"><span class=\"toc-item-num\">Task 1.&nbsp;&nbsp;</span>Compiling Ebola Data</a></div>\n",
    " <div class=\"lev1\"><a href=\"#Task-2.-RNA-Sequences\"><span class=\"toc-item-num\">Task 2.&nbsp;&nbsp;</span>RNA Sequences</a></div>\n",
    " <div class=\"lev1\"><a href=\"#Task-3.-Class-War-in-Titanic\"><span class=\"toc-item-num\">Task 3.&nbsp;&nbsp;</span>Class War in Titanic</a></div></p>"
   ]
  },
  {
   "cell_type": "code",
   "execution_count": 1,
   "metadata": {
    "collapsed": true
   },
   "outputs": [],
   "source": [
    "import pandas as pd\n",
    "import numpy as np\n",
    "import os\n",
    "import functools as fc\n",
    "pd.options.mode.chained_assignment = None  # default='warn', Mutes warnings when copying a slice from a DataFrame.\n",
    "\n",
    "DATA_FOLDER = './Data/'"
   ]
  },
  {
   "cell_type": "markdown",
   "metadata": {},
   "source": [
    "## Task 1. Compiling Ebola Data\n",
    "\n",
    "The `DATA_FOLDER/ebola` folder contains summarized reports of Ebola cases from three countries (Guinea, Liberia and Sierra Leone) during the recent outbreak of the disease in West Africa. For each country, there are daily reports that contain various information about the outbreak in several cities in each country.\n",
    "\n",
    "Use pandas to import these data files into a single `Dataframe`.\n",
    "Using this `DataFrame`, calculate for *each country*, the *daily average* per year of *new cases* and *deaths*.\n",
    "Make sure you handle all the different expressions for *new cases* and *deaths* that are used in the reports."
   ]
  },
  {
   "cell_type": "code",
   "execution_count": 29,
   "metadata": {
    "collapsed": true
   },
   "outputs": [],
   "source": [
    "#Initialization\n",
    "#The dataFrame we gonna fill and work with.\n",
    "df = pd.DataFrame()\n",
    "EBOLA_FOLDER = DATA_FOLDER + \"Ebola/\"\n",
    "#The columns' names with the data we're interested to.\n",
    "COLUMNS_TO_KEEP = pd.DataFrame([{'guinea': ['Date', 'Description' , 'Totals'],\n",
    "                                 'liberia':['Date', 'Variable', 'National'],\n",
    "                                 'sl':['date', 'variable', 'National']}])\n",
    "#The header we gonna keep for the final data frame.\n",
    "GOOD_HEADER = ['Date', 'Description' , 'Totals']\n",
    "\n",
    "#The name of the new cases entry for each country.\n",
    "CONFIRMED_CASES = pd.DataFrame([{'guinea': 'New cases of confirmed',\n",
    "                                 'liberia': 'New case/s (confirmed)',\n",
    "                                 'sl': 'new_confirmed'}])"
   ]
  },
  {
   "cell_type": "code",
   "execution_count": 64,
   "metadata": {},
   "outputs": [
    {
     "ename": "SyntaxError",
     "evalue": "invalid syntax (<ipython-input-64-4be48b2e4a2a>, line 5)",
     "output_type": "error",
     "traceback": [
      "\u001b[0;36m  File \u001b[0;32m\"<ipython-input-64-4be48b2e4a2a>\"\u001b[0;36m, line \u001b[0;32m5\u001b[0m\n\u001b[0;31m    if  not in str(toReturn['Date']):\u001b[0m\n\u001b[0m             ^\u001b[0m\n\u001b[0;31mSyntaxError\u001b[0m\u001b[0;31m:\u001b[0m invalid syntax\n"
     ]
    }
   ],
   "source": [
    "def reduce(df):\n",
    "    toReturn = pd.DataFrame(columns = [{'Date','Totals'})\n",
    "    for index, row in df.iterrows():\n",
    "        dateRow = row['Date'].date()\n",
    "        if  not in str(toReturn['Date']):\n",
    "            toReturn = toReturn.append(row)\n",
    "        else:\n",
    "            newRow = toReturn.Date == row['Date']\n",
    "            newRow.Totals = newRow.Totals + row['Totals']\n",
    "            \n",
    "    return toReturn\n",
    "\n",
    "#For all the directory in Ebola directory load the .csv file in it.\n",
    "for dir in os.listdir(EBOLA_FOLDER):\n",
    "    if \"_data\" in dir:\n",
    "        #Substract _data to only get the country name\n",
    "        country = dir[:-5]\n",
    "        #For each file in the country directory\n",
    "        for file in os.listdir(EBOLA_FOLDER + dir):\n",
    "            if file.endswith(\".csv\"):\n",
    "                tmp = pd.read_csv(EBOLA_FOLDER + dir + '/' + file, usecols= COLUMNS_TO_KEEP[country].at[0])\n",
    "                tmp.columns = GOOD_HEADER\n",
    "                #Add a column in the 1st position representing the country.\n",
    "                tmp['Country'] = country\n",
    "                tmp.Date = pd.to_datetime(tmp.Date)\n",
    "                if(df.empty):\n",
    "                    df = tmp\n",
    "                else:\n",
    "                    df = df.merge(tmp,how='outer')\n",
    "\n",
    "#Mean of new cases per month & country yearly.\n",
    "\n",
    "guinea = df[(df.Country == 'liberia') & (df.Description == CONFIRMED_CASES['liberia'].at[0])][['Date','Totals']]\n",
    "#reduce(guinea)\n",
    "print(len(guinea))\n",
    "#df.to_csv('df.csv')"
   ]
  },
  {
   "cell_type": "markdown",
   "metadata": {},
   "source": [
    "## Task 2. RNA Sequences\n",
    "\n",
    "In the `DATA_FOLDER/microbiome` subdirectory, there are 9 spreadsheets of microbiome data that was acquired from high-throughput RNA sequencing procedures, along with a 10<sup>th</sup> file that describes the content of each. \n",
    "\n",
    "Use pandas to import the first 9 spreadsheets into a single `DataFrame`.\n",
    "Then, add the metadata information from the 10<sup>th</sup> spreadsheet as columns in the combined `DataFrame`.\n",
    "Make sure that the final `DataFrame` has a unique index and all the `NaN` values have been replaced by the tag `unknown`."
   ]
  },
  {
   "cell_type": "code",
   "execution_count": 36,
   "metadata": {},
   "outputs": [],
   "source": [
    "MICROBIOME_FOLDER = DATA_FOLDER + \"Microbiome/\"\n",
    "#The header we gonna keep for the final data frame.\n",
    "GOOD_HEADER = ['Name', 'Number']\n",
    "\n",
    "\n",
    "\n",
    "header = pd.DataFrame()\n",
    "header = pd.read_excel(MICROBIOME_FOLDER +'/metadata.xls', sheetname='Sheet1', header=None)\n",
    "#GOOD_HEADER = GOOD_HEADER.append(header.iloc[0,:])\n",
    "metadata_columns = header.iloc[0,:].as_matrix()\n",
    "for i in range (0 ,metadata_columns.size):\n",
    "    GOOD_HEADER.append(metadata_columns[i])\n",
    "\n",
    "mb = pd.DataFrame(columns = GOOD_HEADER)\n",
    "\n",
    "for file in os.listdir(MICROBIOME_FOLDER):\n",
    "    if \"MID\" in file:\n",
    "        #Substract MID & .xls to only get the experiement number\n",
    "        n = file[3:-4]\n",
    "        tmp = pd.read_excel(MICROBIOME_FOLDER + '/MID' + n + '.xls', sheetname='Sheet 1', header=None)\n",
    "        tmp.columns = ['Name', 'Number']\n",
    "        for i in range (0 ,metadata_columns.size):\n",
    "            n = int(n)\n",
    "            tmp[metadata_columns[i]] = header.iloc[n,i]\n",
    "        if(mb.empty):\n",
    "            mb = tmp\n",
    "        else:\n",
    "            mb = mb.merge(tmp,how='outer')\n",
    "mb = mb.set_index(['BARCODE'])\n",
    "mb = mb.fillna('unknown')\n",
    "#print(mb)\n",
    "mb.to_csv('./mb.csv')"
   ]
  },
  {
   "cell_type": "code",
   "execution_count": 34,
   "metadata": {},
   "outputs": [
    {
     "data": {
      "text/html": [
       "<div>\n",
       "<style>\n",
       "    .dataframe thead tr:only-child th {\n",
       "        text-align: right;\n",
       "    }\n",
       "\n",
       "    .dataframe thead th {\n",
       "        text-align: left;\n",
       "    }\n",
       "\n",
       "    .dataframe tbody tr th {\n",
       "        vertical-align: top;\n",
       "    }\n",
       "</style>\n",
       "<table border=\"1\" class=\"dataframe\">\n",
       "  <thead>\n",
       "    <tr style=\"text-align: right;\">\n",
       "      <th></th>\n",
       "      <th>Number</th>\n",
       "    </tr>\n",
       "  </thead>\n",
       "  <tbody>\n",
       "    <tr>\n",
       "      <th>count</th>\n",
       "      <td>2396.000000</td>\n",
       "    </tr>\n",
       "    <tr>\n",
       "      <th>mean</th>\n",
       "      <td>55.736227</td>\n",
       "    </tr>\n",
       "    <tr>\n",
       "      <th>std</th>\n",
       "      <td>445.796498</td>\n",
       "    </tr>\n",
       "    <tr>\n",
       "      <th>min</th>\n",
       "      <td>1.000000</td>\n",
       "    </tr>\n",
       "    <tr>\n",
       "      <th>25%</th>\n",
       "      <td>1.000000</td>\n",
       "    </tr>\n",
       "    <tr>\n",
       "      <th>50%</th>\n",
       "      <td>2.000000</td>\n",
       "    </tr>\n",
       "    <tr>\n",
       "      <th>75%</th>\n",
       "      <td>8.000000</td>\n",
       "    </tr>\n",
       "    <tr>\n",
       "      <th>max</th>\n",
       "      <td>11277.000000</td>\n",
       "    </tr>\n",
       "  </tbody>\n",
       "</table>\n",
       "</div>"
      ],
      "text/plain": [
       "             Number\n",
       "count   2396.000000\n",
       "mean      55.736227\n",
       "std      445.796498\n",
       "min        1.000000\n",
       "25%        1.000000\n",
       "50%        2.000000\n",
       "75%        8.000000\n",
       "max    11277.000000"
      ]
     },
     "execution_count": 34,
     "metadata": {},
     "output_type": "execute_result"
    }
   ],
   "source": [
    "mb[mb.duplicated()==True] # no duplicated row\n",
    "mb.Number.unique() #only integer value"
   ]
  },
  {
   "cell_type": "markdown",
   "metadata": {},
   "source": [
    "## Task 3. Class War in Titanic\n",
    "\n",
    "Use pandas to import the data file `Data/titanic.xls`. It contains data on all the passengers that travelled on the Titanic."
   ]
  },
  {
   "cell_type": "code",
   "execution_count": null,
   "metadata": {
    "collapsed": true
   },
   "outputs": [],
   "source": [
    "from IPython.core.display import HTML\n",
    "HTML(filename=DATA_FOLDER+'/titanic.html')"
   ]
  },
  {
   "cell_type": "markdown",
   "metadata": {},
   "source": [
    "For each of the following questions state clearly your assumptions and discuss your findings:\n",
    "1. Describe the *type* and the *value range* of each attribute. Indicate and transform the attributes that can be `Categorical`. \n",
    "2. Plot histograms for the *travel class*, *embarkation port*, *sex* and *age* attributes. For the latter one, use *discrete decade intervals*. \n",
    "3. Calculate the proportion of passengers by *cabin floor*. Present your results in a *pie chart*.\n",
    "4. For each *travel class*, calculate the proportion of the passengers that survived. Present your results in *pie charts*.\n",
    "5. Calculate the proportion of the passengers that survived by *travel class* and *sex*. Present your results in *a single histogram*.\n",
    "6. Create 2 equally populated *age categories* and calculate survival proportions by *age category*, *travel class* and *sex*. Present your results in a `DataFrame` with unique index."
   ]
  },
  {
   "cell_type": "code",
   "execution_count": null,
   "metadata": {
    "collapsed": true
   },
   "outputs": [],
   "source": [
    "# Write your answer here"
   ]
  }
 ],
 "metadata": {
  "kernelspec": {
   "display_name": "Python 3",
   "language": "python",
   "name": "python3"
  },
  "language_info": {
   "codemirror_mode": {
    "name": "ipython",
    "version": 3
   },
   "file_extension": ".py",
   "mimetype": "text/x-python",
   "name": "python",
   "nbconvert_exporter": "python",
   "pygments_lexer": "ipython3",
   "version": "3.6.1"
  }
 },
 "nbformat": 4,
 "nbformat_minor": 2
}
