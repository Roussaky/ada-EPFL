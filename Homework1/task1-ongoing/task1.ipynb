{
 "cells": [
  {
   "cell_type": "code",
   "execution_count": 91,
   "metadata": {
    "collapsed": true
   },
   "outputs": [],
   "source": [
    "DATA_FOLDER = '../../../ADA2017-Tutorials/02 - Intro to Pandas/Data/'"
   ]
  },
  {
   "cell_type": "markdown",
   "metadata": {},
   "source": [
    "## TASK 1: EBOLA DATA"
   ]
  },
  {
   "cell_type": "code",
   "execution_count": 92,
   "metadata": {
    "collapsed": true
   },
   "outputs": [],
   "source": [
    "EBOLA_FOLDER = DATA_FOLDER+'ebola/'\n",
    "\n",
    "guinea = EBOLA_FOLDER+'guinea_data/'\n",
    "liberia = EBOLA_FOLDER+'liberia_data/'\n",
    "sl = EBOLA_FOLDER+'sl_data' #Sierra Leone"
   ]
  },
  {
   "cell_type": "code",
   "execution_count": 93,
   "metadata": {
    "collapsed": true
   },
   "outputs": [],
   "source": [
    "import pandas as pd\n",
    "import os.path"
   ]
  },
  {
   "cell_type": "code",
   "execution_count": 94,
   "metadata": {
    "collapsed": true
   },
   "outputs": [],
   "source": [
    "def loadAllFile(FolderPath):\n",
    "    data = pd.DataFrame()\n",
    "    for f in os.listdir(FolderPath):\n",
    "        file_path = os.path.join(FolderPath, f)\n",
    "        file_data = pd.read_csv(file_path)\n",
    "        data = data.append(file_data, ignore_index=True)\n",
    "    return data"
   ]
  },
  {
   "cell_type": "markdown",
   "metadata": {},
   "source": [
    "### Guinea"
   ]
  },
  {
   "cell_type": "code",
   "execution_count": 95,
   "metadata": {},
   "outputs": [
    {
     "data": {
      "text/plain": [
       "(714, 25)"
      ]
     },
     "execution_count": 95,
     "metadata": {},
     "output_type": "execute_result"
    }
   ],
   "source": [
    "data_guinea = loadAllFile(guinea)\n",
    "data_guinea.shape"
   ]
  },
  {
   "cell_type": "code",
   "execution_count": 96,
   "metadata": {},
   "outputs": [
    {
     "data": {
      "text/plain": [
       "Index(['Beyla', 'Boffa', 'Conakry', 'Coyah', 'Dabola', 'Dalaba', 'Date',\n",
       "       'Description', 'Dinguiraye', 'Dubreka', 'Forecariah', 'Gueckedou',\n",
       "       'Kerouane', 'Kindia', 'Kissidougou', 'Kouroussa', 'Lola', 'Macenta',\n",
       "       'Mzerekore', 'Nzerekore', 'Pita', 'Siguiri', 'Telimele', 'Totals',\n",
       "       'Yomou'],\n",
       "      dtype='object')"
      ]
     },
     "execution_count": 96,
     "metadata": {},
     "output_type": "execute_result"
    }
   ],
   "source": [
    "data_guinea.columns"
   ]
  },
  {
   "cell_type": "code",
   "execution_count": 97,
   "metadata": {
    "collapsed": true
   },
   "outputs": [],
   "source": [
    "#We can verify exactitude of totals value by doing agg over city values, First we assume that totals is correct\n",
    "#To answer the question, we only need colomns : Date, Description, Totals. So we are Selecting those colomns.\n",
    "data_guinea = data_guinea[['Date','Description','Totals']]\n",
    "\n",
    "data_guinea.dropna(axis=0, how='any', inplace=True) #Drop rows where any of the elements are nan"
   ]
  },
  {
   "cell_type": "code",
   "execution_count": 98,
   "metadata": {},
   "outputs": [
    {
     "data": {
      "text/plain": [
       "array(['2014-08-04', '2014-08-26', '2014-08-27', '2014-08-30',\n",
       "       '2014-08-31', '2014-09-02', '2014-09-04', '2014-09-07',\n",
       "       '2014-09-08', '2014-09-09', '2014-09-11', '2014-09-14',\n",
       "       '2014-09-16', '2014-09-17', '2014-09-19', '2014-09-21',\n",
       "       '2014-09-22', '2014-09-23', '2014-09-24', '2014-09-26',\n",
       "       '2014-09-30', '2014-10-01'], dtype=object)"
      ]
     },
     "execution_count": 98,
     "metadata": {},
     "output_type": "execute_result"
    }
   ],
   "source": [
    "data_guinea.Date.unique()"
   ]
  },
  {
   "cell_type": "code",
   "execution_count": 99,
   "metadata": {},
   "outputs": [
    {
     "data": {
      "text/plain": [
       "array([5, 0, 4, 9, 11, 133, 351, 495, 2, 228, 363, 31, 18, 13, 138, 89,\n",
       "       161, 190, 52, 81, 7, 6, 220, 277, 21, 12, 8, 6309, 795, 5513, 772,\n",
       "       785, 1235, '18', '10', '28', '30', '141', '490', '661', '518', '5',\n",
       "       '2', '292', '958', '66%', '0', '45', '26', '22', '87', '6', '997',\n",
       "       '137', '7521', '1085', '1070', '6438', '9', '55', '1700', '12',\n",
       "       '142', '499', '663', '294', '438', '80', '14', '999', '127', '7662',\n",
       "       '1264', '1250', '6496', '58', '1719', '15', '24', '32', '533',\n",
       "       '707', '560', '324', '468', '50', '82', '33', '1094', '21', '7734',\n",
       "       '1251', '1173', '6504', '76', '41', '1858', '8', '29', '46', '36',\n",
       "       '150', '563', '749', '642', '3', '337', '489', '65%', '99', '1113',\n",
       "       '83', '1941', '11', '25', '49', '591', '790', '349', '501', '63%',\n",
       "       '105', '1144', '8189', '1842', '1641', '31', '2018', '13', '17',\n",
       "       '51', '151', '621', '823', '682', '368', '522', '61%', '103',\n",
       "       '1191', '8746', '1978', '1707', '6797', '249', '16', '678', '861',\n",
       "       '714', '4', '402', '557', '54', '102', '1256', '8840', '2162',\n",
       "       '1868', '6851', '2236', '7', '683', '867', '747', '410', '565',\n",
       "       '52', '92', '1272', '1', '9006', '2283', '2043', '6896', '38',\n",
       "       '2274', '716', '899', '413', '568', '57', '108', '1244', '172',\n",
       "       '9378', '2453', '2136', '6904', '47', '2333', '162', '743', '936',\n",
       "       '787', '429', '595', '64%', '61', '84', '1294', '27', '9553',\n",
       "       '2472', '2145', '7066', '48', '2373', '161', '771', '964', '442',\n",
       "       '608', '66', '1348', '53', '10082', '2433', '2372', '7642', '2489',\n",
       "       '788', '974', '838', '463', '630', '35', '1379', '182', '10383',\n",
       "       '2346', '2267', '8036', '2505', '818', '1008', '465', '632', '67',\n",
       "       '69', '1405', '10532', '2380', '2249', '8055', '2596', '19', '832',\n",
       "       '1022', '635', '62%', '1418', '10561', '2364', '2307', '8100',\n",
       "       '2609', '854', '1048', '476', '643', '1465', '64', '10591', '2362',\n",
       "       '2004', '8132', '2665', '20', '876', '1074', '481', '648', '60%',\n",
       "       '93', '1478', '297', '10885', '2295', '1967', '8480', '2710', '169',\n",
       "       '902', '1103', '494', '668', '1500', '11404', '2656', '2598',\n",
       "       '8747', '2760', '175', '961', '1169', '951', '539', '112', '1548',\n",
       "       '11719', '2657', '2615', '9021', '2807', '34', '177', '977', '1199',\n",
       "       '562', '739', '114', '1576', '11772', '2661', '2595', '9110', '2832'], dtype=object)"
      ]
     },
     "execution_count": 99,
     "metadata": {},
     "output_type": "execute_result"
    }
   ],
   "source": [
    "data_guinea.Totals.unique()"
   ]
  },
  {
   "cell_type": "code",
   "execution_count": 100,
   "metadata": {},
   "outputs": [
    {
     "data": {
      "text/plain": [
       "array(['New cases of suspects', 'New cases of probables',\n",
       "       'New cases of confirmed', 'Total new cases registered so far',\n",
       "       'Total cases of suspects', 'Total cases of probables',\n",
       "       'Total cases of confirmed',\n",
       "       'Cumulative (confirmed + probable + suspects)',\n",
       "       'New deaths registered today',\n",
       "       'New deaths registered today (confirmed)',\n",
       "       'New deaths registered today (probables)',\n",
       "       'New deaths registered today (suspects)',\n",
       "       'Total deaths of suspects', 'Total deaths of probables',\n",
       "       'Total deaths of confirmed',\n",
       "       'Total deaths (confirmed + probables + suspects)',\n",
       "       'Total PEC center today', 'Total PEC center today (confirmed)',\n",
       "       'Total PEC center today (probables)',\n",
       "       'Total PEC center today (suspects)',\n",
       "       'Total of deaths in confirmed cases in CTE',\n",
       "       'Total of cured in confirmed cases in CTE',\n",
       "       'Number of male confirmed cases',\n",
       "       'Number of female confirmed cases',\n",
       "       'Number of male probables cases',\n",
       "       'Number of female probables cases', 'Number of male suspects cases',\n",
       "       'Number of female suspects cases', 'Total number of male cases',\n",
       "       'Total number of female cases',\n",
       "       'Number of confirmed cases among health workers',\n",
       "       'Number of deaths of confirmed cases among health workers',\n",
       "       'Number of probables cases among health workers',\n",
       "       'Number of deaths of probables cases among health workers',\n",
       "       'Number of suspects cases among health workers',\n",
       "       'Number of death of confirmed cases among health workers',\n",
       "       'Total contacts registered from start date',\n",
       "       'Number of contacts to follow today',\n",
       "       'Number of contacts out of track',\n",
       "       'Number of contacts followed yesterday',\n",
       "       'Number of patients tested', 'Number of samples collected',\n",
       "       'Total suspected non-class cases', 'New deaths registered',\n",
       "       'Fatality rate for confirmed and probables',\n",
       "       'New cases of confirmed among health workers',\n",
       "       'Total case of confirmed among health workers',\n",
       "       'New deaths registered among health workers',\n",
       "       'Total deaths registered among health workers',\n",
       "       'New admits to CTE so far',\n",
       "       'Total number of hospitalized cases in CTE',\n",
       "       'Total number of exits from CTE',\n",
       "       'Total number of admissions to CTE',\n",
       "       'New contacts registered so far',\n",
       "       'Number of contacts followed today',\n",
       "       'Number of contacts out of the track 21 days',\n",
       "       'Number of contacts lost to follow up',\n",
       "       'Number of samples collected today', 'Number of samples under test',\n",
       "       'Total samples tested'], dtype=object)"
      ]
     },
     "execution_count": 100,
     "metadata": {},
     "output_type": "execute_result"
    }
   ],
   "source": [
    "data_guinea.Description.unique()"
   ]
  },
  {
   "cell_type": "code",
   "execution_count": 101,
   "metadata": {},
   "outputs": [],
   "source": [
    "data_guinea['Country']='Guinea'\n",
    "data_guinea[data_guinea.duplicated()==True] # no duplicate row\n",
    "\n",
    "data_guinea.Date=pd.to_datetime(data_guinea.Date) \n",
    "\n",
    "data_guinea = data_guinea.set_index(['Country','Date'])"
   ]
  },
  {
   "cell_type": "code",
   "execution_count": 102,
   "metadata": {},
   "outputs": [
    {
     "data": {
      "text/html": [
       "<div>\n",
       "<style>\n",
       "    .dataframe thead tr:only-child th {\n",
       "        text-align: right;\n",
       "    }\n",
       "\n",
       "    .dataframe thead th {\n",
       "        text-align: left;\n",
       "    }\n",
       "\n",
       "    .dataframe tbody tr th {\n",
       "        vertical-align: top;\n",
       "    }\n",
       "</style>\n",
       "<table border=\"1\" class=\"dataframe\">\n",
       "  <thead>\n",
       "    <tr style=\"text-align: right;\">\n",
       "      <th></th>\n",
       "      <th>Description</th>\n",
       "      <th>Totals</th>\n",
       "    </tr>\n",
       "  </thead>\n",
       "  <tbody>\n",
       "    <tr>\n",
       "      <th>count</th>\n",
       "      <td>712</td>\n",
       "      <td>712</td>\n",
       "    </tr>\n",
       "    <tr>\n",
       "      <th>unique</th>\n",
       "      <td>60</td>\n",
       "      <td>317</td>\n",
       "    </tr>\n",
       "    <tr>\n",
       "      <th>top</th>\n",
       "      <td>Total deaths (confirmed + probables + suspects)</td>\n",
       "      <td>0</td>\n",
       "    </tr>\n",
       "    <tr>\n",
       "      <th>freq</th>\n",
       "      <td>22</td>\n",
       "      <td>83</td>\n",
       "    </tr>\n",
       "  </tbody>\n",
       "</table>\n",
       "</div>"
      ],
      "text/plain": [
       "                                            Description Totals\n",
       "count                                               712    712\n",
       "unique                                               60    317\n",
       "top     Total deaths (confirmed + probables + suspects)      0\n",
       "freq                                                 22     83"
      ]
     },
     "execution_count": 102,
     "metadata": {},
     "output_type": "execute_result"
    }
   ],
   "source": [
    "pd.set_option('display.max_columns', None)\n",
    "data_guinea.describe() "
   ]
  },
  {
   "cell_type": "code",
   "execution_count": 103,
   "metadata": {
    "collapsed": true
   },
   "outputs": [],
   "source": [
    "#cols = ['Description','Totals']  + [col for col in data_guinea if col not in ['Description','Totals']]\n",
    "#data_guinea = data_guinea[cols] # reordering colomns \n",
    "#data_guinea[data_guinea.Totals.str.contains('%')==True]"
   ]
  },
  {
   "cell_type": "code",
   "execution_count": 104,
   "metadata": {},
   "outputs": [
    {
     "data": {
      "text/html": [
       "<div>\n",
       "<style>\n",
       "    .dataframe thead tr:only-child th {\n",
       "        text-align: right;\n",
       "    }\n",
       "\n",
       "    .dataframe thead th {\n",
       "        text-align: left;\n",
       "    }\n",
       "\n",
       "    .dataframe tbody tr th {\n",
       "        vertical-align: top;\n",
       "    }\n",
       "</style>\n",
       "<table border=\"1\" class=\"dataframe\">\n",
       "  <thead>\n",
       "    <tr style=\"text-align: right;\">\n",
       "      <th></th>\n",
       "      <th></th>\n",
       "      <th>Description</th>\n",
       "      <th>Totals</th>\n",
       "    </tr>\n",
       "    <tr>\n",
       "      <th>Country</th>\n",
       "      <th>Date</th>\n",
       "      <th></th>\n",
       "      <th></th>\n",
       "    </tr>\n",
       "  </thead>\n",
       "  <tbody>\n",
       "    <tr>\n",
       "      <th rowspan=\"61\" valign=\"top\">Guinea</th>\n",
       "      <th>2014-08-04</th>\n",
       "      <td>New cases of suspects</td>\n",
       "      <td>5</td>\n",
       "    </tr>\n",
       "    <tr>\n",
       "      <th>2014-08-04</th>\n",
       "      <td>New cases of probables</td>\n",
       "      <td>0</td>\n",
       "    </tr>\n",
       "    <tr>\n",
       "      <th>2014-08-04</th>\n",
       "      <td>New cases of confirmed</td>\n",
       "      <td>4</td>\n",
       "    </tr>\n",
       "    <tr>\n",
       "      <th>2014-08-04</th>\n",
       "      <td>Total new cases registered so far</td>\n",
       "      <td>9</td>\n",
       "    </tr>\n",
       "    <tr>\n",
       "      <th>2014-08-04</th>\n",
       "      <td>Total cases of suspects</td>\n",
       "      <td>11</td>\n",
       "    </tr>\n",
       "    <tr>\n",
       "      <th>2014-08-04</th>\n",
       "      <td>Total cases of probables</td>\n",
       "      <td>133</td>\n",
       "    </tr>\n",
       "    <tr>\n",
       "      <th>2014-08-04</th>\n",
       "      <td>Total cases of confirmed</td>\n",
       "      <td>351</td>\n",
       "    </tr>\n",
       "    <tr>\n",
       "      <th>2014-08-04</th>\n",
       "      <td>Cumulative (confirmed + probable + suspects)</td>\n",
       "      <td>495</td>\n",
       "    </tr>\n",
       "    <tr>\n",
       "      <th>2014-08-04</th>\n",
       "      <td>New deaths registered today</td>\n",
       "      <td>2</td>\n",
       "    </tr>\n",
       "    <tr>\n",
       "      <th>2014-08-04</th>\n",
       "      <td>New deaths registered today (confirmed)</td>\n",
       "      <td>2</td>\n",
       "    </tr>\n",
       "    <tr>\n",
       "      <th>2014-08-04</th>\n",
       "      <td>New deaths registered today (probables)</td>\n",
       "      <td>0</td>\n",
       "    </tr>\n",
       "    <tr>\n",
       "      <th>2014-08-04</th>\n",
       "      <td>New deaths registered today (suspects)</td>\n",
       "      <td>0</td>\n",
       "    </tr>\n",
       "    <tr>\n",
       "      <th>2014-08-04</th>\n",
       "      <td>Total deaths of suspects</td>\n",
       "      <td>2</td>\n",
       "    </tr>\n",
       "    <tr>\n",
       "      <th>2014-08-04</th>\n",
       "      <td>Total deaths of probables</td>\n",
       "      <td>133</td>\n",
       "    </tr>\n",
       "    <tr>\n",
       "      <th>2014-08-04</th>\n",
       "      <td>Total deaths of confirmed</td>\n",
       "      <td>228</td>\n",
       "    </tr>\n",
       "    <tr>\n",
       "      <th>2014-08-04</th>\n",
       "      <td>Total deaths (confirmed + probables + suspects)</td>\n",
       "      <td>363</td>\n",
       "    </tr>\n",
       "    <tr>\n",
       "      <th>2014-08-04</th>\n",
       "      <td>Total PEC center today</td>\n",
       "      <td>31</td>\n",
       "    </tr>\n",
       "    <tr>\n",
       "      <th>2014-08-04</th>\n",
       "      <td>Total PEC center today (confirmed)</td>\n",
       "      <td>18</td>\n",
       "    </tr>\n",
       "    <tr>\n",
       "      <th>2014-08-04</th>\n",
       "      <td>Total PEC center today (probables)</td>\n",
       "      <td>0</td>\n",
       "    </tr>\n",
       "    <tr>\n",
       "      <th>2014-08-04</th>\n",
       "      <td>Total PEC center today (suspects)</td>\n",
       "      <td>13</td>\n",
       "    </tr>\n",
       "    <tr>\n",
       "      <th>2014-08-04</th>\n",
       "      <td>Total of deaths in confirmed cases in CTE</td>\n",
       "      <td>138</td>\n",
       "    </tr>\n",
       "    <tr>\n",
       "      <th>2014-08-04</th>\n",
       "      <td>Total of cured in confirmed cases in CTE</td>\n",
       "      <td>89</td>\n",
       "    </tr>\n",
       "    <tr>\n",
       "      <th>2014-08-04</th>\n",
       "      <td>Number of male confirmed cases</td>\n",
       "      <td>161</td>\n",
       "    </tr>\n",
       "    <tr>\n",
       "      <th>2014-08-04</th>\n",
       "      <td>Number of female confirmed cases</td>\n",
       "      <td>190</td>\n",
       "    </tr>\n",
       "    <tr>\n",
       "      <th>2014-08-04</th>\n",
       "      <td>Number of male probables cases</td>\n",
       "      <td>52</td>\n",
       "    </tr>\n",
       "    <tr>\n",
       "      <th>2014-08-04</th>\n",
       "      <td>Number of female probables cases</td>\n",
       "      <td>81</td>\n",
       "    </tr>\n",
       "    <tr>\n",
       "      <th>2014-08-04</th>\n",
       "      <td>Number of male suspects cases</td>\n",
       "      <td>7</td>\n",
       "    </tr>\n",
       "    <tr>\n",
       "      <th>2014-08-04</th>\n",
       "      <td>Number of female suspects cases</td>\n",
       "      <td>6</td>\n",
       "    </tr>\n",
       "    <tr>\n",
       "      <th>2014-08-04</th>\n",
       "      <td>Total number of male cases</td>\n",
       "      <td>220</td>\n",
       "    </tr>\n",
       "    <tr>\n",
       "      <th>2014-08-04</th>\n",
       "      <td>Total number of female cases</td>\n",
       "      <td>277</td>\n",
       "    </tr>\n",
       "    <tr>\n",
       "      <th>...</th>\n",
       "      <td>...</td>\n",
       "      <td>...</td>\n",
       "    </tr>\n",
       "    <tr>\n",
       "      <th>2014-10-01</th>\n",
       "      <td>New cases of confirmed</td>\n",
       "      <td>6</td>\n",
       "    </tr>\n",
       "    <tr>\n",
       "      <th>2014-10-01</th>\n",
       "      <td>Total new cases registered so far</td>\n",
       "      <td>34</td>\n",
       "    </tr>\n",
       "    <tr>\n",
       "      <th>2014-10-01</th>\n",
       "      <td>Total cases of suspects</td>\n",
       "      <td>45</td>\n",
       "    </tr>\n",
       "    <tr>\n",
       "      <th>2014-10-01</th>\n",
       "      <td>Total cases of probables</td>\n",
       "      <td>177</td>\n",
       "    </tr>\n",
       "    <tr>\n",
       "      <th>2014-10-01</th>\n",
       "      <td>Total cases of confirmed</td>\n",
       "      <td>977</td>\n",
       "    </tr>\n",
       "    <tr>\n",
       "      <th>2014-10-01</th>\n",
       "      <td>Cumulative (confirmed + probable + suspects)</td>\n",
       "      <td>1199</td>\n",
       "    </tr>\n",
       "    <tr>\n",
       "      <th>2014-10-01</th>\n",
       "      <td>Total suspected non-class cases</td>\n",
       "      <td>974</td>\n",
       "    </tr>\n",
       "    <tr>\n",
       "      <th>2014-10-01</th>\n",
       "      <td>New deaths registered</td>\n",
       "      <td>15</td>\n",
       "    </tr>\n",
       "    <tr>\n",
       "      <th>2014-10-01</th>\n",
       "      <td>Total deaths of suspects</td>\n",
       "      <td>0</td>\n",
       "    </tr>\n",
       "    <tr>\n",
       "      <th>2014-10-01</th>\n",
       "      <td>Total deaths of probables</td>\n",
       "      <td>177</td>\n",
       "    </tr>\n",
       "    <tr>\n",
       "      <th>2014-10-01</th>\n",
       "      <td>Total deaths of confirmed</td>\n",
       "      <td>562</td>\n",
       "    </tr>\n",
       "    <tr>\n",
       "      <th>2014-10-01</th>\n",
       "      <td>Total deaths (confirmed + probables + suspects)</td>\n",
       "      <td>739</td>\n",
       "    </tr>\n",
       "    <tr>\n",
       "      <th>2014-10-01</th>\n",
       "      <td>Fatality rate for confirmed and probables</td>\n",
       "      <td>62%</td>\n",
       "    </tr>\n",
       "    <tr>\n",
       "      <th>2014-10-01</th>\n",
       "      <td>New cases of confirmed among health workers</td>\n",
       "      <td>2</td>\n",
       "    </tr>\n",
       "    <tr>\n",
       "      <th>2014-10-01</th>\n",
       "      <td>Total case of confirmed among health workers</td>\n",
       "      <td>69</td>\n",
       "    </tr>\n",
       "    <tr>\n",
       "      <th>2014-10-01</th>\n",
       "      <td>New deaths registered among health workers</td>\n",
       "      <td>0</td>\n",
       "    </tr>\n",
       "    <tr>\n",
       "      <th>2014-10-01</th>\n",
       "      <td>Total deaths registered among health workers</td>\n",
       "      <td>35</td>\n",
       "    </tr>\n",
       "    <tr>\n",
       "      <th>2014-10-01</th>\n",
       "      <td>New admits to CTE so far</td>\n",
       "      <td>25</td>\n",
       "    </tr>\n",
       "    <tr>\n",
       "      <th>2014-10-01</th>\n",
       "      <td>Total number of hospitalized cases in CTE</td>\n",
       "      <td>114</td>\n",
       "    </tr>\n",
       "    <tr>\n",
       "      <th>2014-10-01</th>\n",
       "      <td>Total number of exits from CTE</td>\n",
       "      <td>29</td>\n",
       "    </tr>\n",
       "    <tr>\n",
       "      <th>2014-10-01</th>\n",
       "      <td>Total number of admissions to CTE</td>\n",
       "      <td>1576</td>\n",
       "    </tr>\n",
       "    <tr>\n",
       "      <th>2014-10-01</th>\n",
       "      <td>New contacts registered so far</td>\n",
       "      <td>0</td>\n",
       "    </tr>\n",
       "    <tr>\n",
       "      <th>2014-10-01</th>\n",
       "      <td>Total contacts registered from start date</td>\n",
       "      <td>11772</td>\n",
       "    </tr>\n",
       "    <tr>\n",
       "      <th>2014-10-01</th>\n",
       "      <td>Number of contacts to follow today</td>\n",
       "      <td>2661</td>\n",
       "    </tr>\n",
       "    <tr>\n",
       "      <th>2014-10-01</th>\n",
       "      <td>Number of contacts followed today</td>\n",
       "      <td>2595</td>\n",
       "    </tr>\n",
       "    <tr>\n",
       "      <th>2014-10-01</th>\n",
       "      <td>Number of contacts out of the track 21 days</td>\n",
       "      <td>9110</td>\n",
       "    </tr>\n",
       "    <tr>\n",
       "      <th>2014-10-01</th>\n",
       "      <td>Number of contacts lost to follow up</td>\n",
       "      <td>1</td>\n",
       "    </tr>\n",
       "    <tr>\n",
       "      <th>2014-10-01</th>\n",
       "      <td>Number of samples collected today</td>\n",
       "      <td>25</td>\n",
       "    </tr>\n",
       "    <tr>\n",
       "      <th>2014-10-01</th>\n",
       "      <td>Number of samples under test</td>\n",
       "      <td>0</td>\n",
       "    </tr>\n",
       "    <tr>\n",
       "      <th>2014-10-01</th>\n",
       "      <td>Total samples tested</td>\n",
       "      <td>2832</td>\n",
       "    </tr>\n",
       "  </tbody>\n",
       "</table>\n",
       "<p>712 rows × 2 columns</p>\n",
       "</div>"
      ],
      "text/plain": [
       "                                                        Description Totals\n",
       "Country Date                                                              \n",
       "Guinea  2014-08-04                            New cases of suspects      5\n",
       "        2014-08-04                           New cases of probables      0\n",
       "        2014-08-04                           New cases of confirmed      4\n",
       "        2014-08-04                Total new cases registered so far      9\n",
       "        2014-08-04                          Total cases of suspects     11\n",
       "        2014-08-04                         Total cases of probables    133\n",
       "        2014-08-04                         Total cases of confirmed    351\n",
       "        2014-08-04     Cumulative (confirmed + probable + suspects)    495\n",
       "        2014-08-04                      New deaths registered today      2\n",
       "        2014-08-04          New deaths registered today (confirmed)      2\n",
       "        2014-08-04          New deaths registered today (probables)      0\n",
       "        2014-08-04           New deaths registered today (suspects)      0\n",
       "        2014-08-04                         Total deaths of suspects      2\n",
       "        2014-08-04                        Total deaths of probables    133\n",
       "        2014-08-04                        Total deaths of confirmed    228\n",
       "        2014-08-04  Total deaths (confirmed + probables + suspects)    363\n",
       "        2014-08-04                           Total PEC center today     31\n",
       "        2014-08-04               Total PEC center today (confirmed)     18\n",
       "        2014-08-04               Total PEC center today (probables)      0\n",
       "        2014-08-04                Total PEC center today (suspects)     13\n",
       "        2014-08-04        Total of deaths in confirmed cases in CTE    138\n",
       "        2014-08-04         Total of cured in confirmed cases in CTE     89\n",
       "        2014-08-04                   Number of male confirmed cases    161\n",
       "        2014-08-04                 Number of female confirmed cases    190\n",
       "        2014-08-04                   Number of male probables cases     52\n",
       "        2014-08-04                 Number of female probables cases     81\n",
       "        2014-08-04                    Number of male suspects cases      7\n",
       "        2014-08-04                  Number of female suspects cases      6\n",
       "        2014-08-04                       Total number of male cases    220\n",
       "        2014-08-04                     Total number of female cases    277\n",
       "...                                                             ...    ...\n",
       "        2014-10-01                           New cases of confirmed      6\n",
       "        2014-10-01                Total new cases registered so far     34\n",
       "        2014-10-01                          Total cases of suspects     45\n",
       "        2014-10-01                         Total cases of probables    177\n",
       "        2014-10-01                         Total cases of confirmed    977\n",
       "        2014-10-01     Cumulative (confirmed + probable + suspects)   1199\n",
       "        2014-10-01                  Total suspected non-class cases    974\n",
       "        2014-10-01                            New deaths registered     15\n",
       "        2014-10-01                         Total deaths of suspects      0\n",
       "        2014-10-01                        Total deaths of probables    177\n",
       "        2014-10-01                        Total deaths of confirmed    562\n",
       "        2014-10-01  Total deaths (confirmed + probables + suspects)    739\n",
       "        2014-10-01        Fatality rate for confirmed and probables    62%\n",
       "        2014-10-01      New cases of confirmed among health workers      2\n",
       "        2014-10-01     Total case of confirmed among health workers     69\n",
       "        2014-10-01       New deaths registered among health workers      0\n",
       "        2014-10-01     Total deaths registered among health workers     35\n",
       "        2014-10-01                         New admits to CTE so far     25\n",
       "        2014-10-01        Total number of hospitalized cases in CTE    114\n",
       "        2014-10-01                   Total number of exits from CTE     29\n",
       "        2014-10-01                Total number of admissions to CTE   1576\n",
       "        2014-10-01                   New contacts registered so far      0\n",
       "        2014-10-01        Total contacts registered from start date  11772\n",
       "        2014-10-01               Number of contacts to follow today   2661\n",
       "        2014-10-01                Number of contacts followed today   2595\n",
       "        2014-10-01      Number of contacts out of the track 21 days   9110\n",
       "        2014-10-01             Number of contacts lost to follow up      1\n",
       "        2014-10-01                Number of samples collected today     25\n",
       "        2014-10-01                     Number of samples under test      0\n",
       "        2014-10-01                             Total samples tested   2832\n",
       "\n",
       "[712 rows x 2 columns]"
      ]
     },
     "execution_count": 104,
     "metadata": {},
     "output_type": "execute_result"
    }
   ],
   "source": [
    "data_guinea"
   ]
  },
  {
   "cell_type": "code",
   "execution_count": null,
   "metadata": {},
   "outputs": [],
   "source": []
  },
  {
   "cell_type": "markdown",
   "metadata": {},
   "source": [
    "### Liberia "
   ]
  },
  {
   "cell_type": "code",
   "execution_count": 105,
   "metadata": {},
   "outputs": [
    {
     "data": {
      "text/plain": [
       "(3152, 19)"
      ]
     },
     "execution_count": 105,
     "metadata": {},
     "output_type": "execute_result"
    }
   ],
   "source": [
    "data_liberia = loadAllFile(liberia)\n",
    "data_liberia.shape"
   ]
  },
  {
   "cell_type": "code",
   "execution_count": 106,
   "metadata": {},
   "outputs": [
    {
     "data": {
      "text/plain": [
       "Index(['Bomi County', 'Bong County', 'Date', 'Gbarpolu County', 'Grand Bassa',\n",
       "       'Grand Cape Mount', 'Grand Gedeh', 'Grand Kru', 'Lofa County',\n",
       "       'Margibi County', 'Maryland County', 'Montserrado County', 'National',\n",
       "       'Nimba County', 'River Gee County', 'RiverCess County', 'Sinoe County',\n",
       "       'Unnamed: 18', 'Variable'],\n",
       "      dtype='object')"
      ]
     },
     "execution_count": 106,
     "metadata": {},
     "output_type": "execute_result"
    }
   ],
   "source": [
    "data_liberia.columns"
   ]
  },
  {
   "cell_type": "code",
   "execution_count": 107,
   "metadata": {},
   "outputs": [
    {
     "data": {
      "text/plain": [
       "0                                     Specimens collected\n",
       "1                           Specimens pending for testing\n",
       "2                                  Total specimens tested\n",
       "3                                   Newly reported deaths\n",
       "4                        Total death/s in confirmed cases\n",
       "5                         Total death/s in probable cases\n",
       "6                        Total death/s in suspected cases\n",
       "7       Total death/s in confirmed, probable, suspecte...\n",
       "8       Case Fatality Rate (CFR) - Confirmed & Probabl...\n",
       "9                                 Newly reported contacts\n",
       "10                                  Total contacts listed\n",
       "11                              Currently under follow-up\n",
       "12                                          Contacts seen\n",
       "13                Contacts who completed 21 day follow-up\n",
       "14                             Contacts lost to follow-up\n",
       "15                                         New admissions\n",
       "16                 Total no. currently in Treatment Units\n",
       "17                                       Total discharges\n",
       "18                         Cumulative admission/isolation\n",
       "19                            Newly Reported Cases in HCW\n",
       "20                             Cumulative cases among HCW\n",
       "21                           Newly Reported deaths in HCW\n",
       "22                            Cumulative deaths among HCW\n",
       "23                                 New Case/s (Suspected)\n",
       "24                                  New Case/s (Probable)\n",
       "25                                 New case/s (confirmed)\n",
       "26                                  Total suspected cases\n",
       "27                                   Total probable cases\n",
       "28                                  Total confirmed cases\n",
       "29      Total Number of Confirmed Cases of Sierra Leon...\n",
       "                              ...                        \n",
       "3122                               Total specimens tested\n",
       "3123                                Newly reported deaths\n",
       "3124                     Total death/s in confirmed cases\n",
       "3125                      Total death/s in probable cases\n",
       "3126                     Total death/s in suspected cases\n",
       "3127    Total death/s in confirmed, \\n probable, suspe...\n",
       "3128    Case Fatality Rate (CFR) - \\n Confirmed & Prob...\n",
       "3129                              Newly reported contacts\n",
       "3130                                Total contacts listed\n",
       "3131                            Currently under follow-up\n",
       "3132                                        Contacts seen\n",
       "3133           Contacts who completed 21 day \\n follow-up\n",
       "3134                           Contacts lost to follow-up\n",
       "3135                                       New admissions\n",
       "3136            Total no. currently in Treatment \\n Units\n",
       "3137                                     Total discharges\n",
       "3138                       Cumulative admission/isolation\n",
       "3139                          Newly Reported Cases in HCW\n",
       "3140                           Cumulative cases among HCW\n",
       "3141                         Newly Reported deaths in HCW\n",
       "3142                          Cumulative deaths among HCW\n",
       "3143                               New Case/s (Suspected)\n",
       "3144                                New Case/s (Probable)\n",
       "3145                               New case/s (confirmed)\n",
       "3146                                Total suspected cases\n",
       "3147                                 Total probable cases\n",
       "3148                                Total confirmed cases\n",
       "3149    Total Number of Confirmed Cases \\n of Sierra L...\n",
       "3150    Total Number of Confirmed Cases \\n of Guinean ...\n",
       "3151    Cumulative confirmed, probable and suspected c...\n",
       "Name: Variable, Length: 3152, dtype: object"
      ]
     },
     "execution_count": 107,
     "metadata": {},
     "output_type": "execute_result"
    }
   ],
   "source": [
    "data_liberia['Variable']"
   ]
  },
  {
   "cell_type": "code",
   "execution_count": 108,
   "metadata": {
    "collapsed": true
   },
   "outputs": [],
   "source": [
    "data_liberia.rename(columns={'Variable': 'Description'}, inplace=True)\n",
    "data_liberia.rename(columns={'National': 'Totals'}, inplace=True)"
   ]
  },
  {
   "cell_type": "code",
   "execution_count": 109,
   "metadata": {},
   "outputs": [
    {
     "data": {
      "text/html": [
       "<div>\n",
       "<style>\n",
       "    .dataframe thead tr:only-child th {\n",
       "        text-align: right;\n",
       "    }\n",
       "\n",
       "    .dataframe thead th {\n",
       "        text-align: left;\n",
       "    }\n",
       "\n",
       "    .dataframe tbody tr th {\n",
       "        vertical-align: top;\n",
       "    }\n",
       "</style>\n",
       "<table border=\"1\" class=\"dataframe\">\n",
       "  <thead>\n",
       "    <tr style=\"text-align: right;\">\n",
       "      <th></th>\n",
       "      <th>Bomi County</th>\n",
       "      <th>Bong County</th>\n",
       "      <th>Date</th>\n",
       "      <th>Gbarpolu County</th>\n",
       "      <th>Grand Bassa</th>\n",
       "      <th>Grand Cape Mount</th>\n",
       "      <th>Grand Gedeh</th>\n",
       "      <th>Grand Kru</th>\n",
       "      <th>Lofa County</th>\n",
       "      <th>Margibi County</th>\n",
       "      <th>Maryland County</th>\n",
       "      <th>Montserrado County</th>\n",
       "      <th>Totals</th>\n",
       "      <th>Nimba County</th>\n",
       "      <th>River Gee County</th>\n",
       "      <th>RiverCess County</th>\n",
       "      <th>Sinoe County</th>\n",
       "      <th>Unnamed: 18</th>\n",
       "      <th>Description</th>\n",
       "    </tr>\n",
       "  </thead>\n",
       "  <tbody>\n",
       "    <tr>\n",
       "      <th>2887</th>\n",
       "      <td>0.0</td>\n",
       "      <td>3.0</td>\n",
       "      <td>12/1/2014</td>\n",
       "      <td>0.0</td>\n",
       "      <td>2.0</td>\n",
       "      <td>NaN</td>\n",
       "      <td>2.0</td>\n",
       "      <td>0.0</td>\n",
       "      <td>0.0</td>\n",
       "      <td>0.0</td>\n",
       "      <td>5.0</td>\n",
       "      <td>0.0</td>\n",
       "      <td>25.0</td>\n",
       "      <td>12.0</td>\n",
       "      <td>0.0</td>\n",
       "      <td>0.0</td>\n",
       "      <td>0.0</td>\n",
       "      <td>1.0</td>\n",
       "      <td>New Case/s (Suspected)</td>\n",
       "    </tr>\n",
       "    <tr>\n",
       "      <th>2888</th>\n",
       "      <td>0.0</td>\n",
       "      <td>0.0</td>\n",
       "      <td>12/1/2014</td>\n",
       "      <td>0.0</td>\n",
       "      <td>1.0</td>\n",
       "      <td>NaN</td>\n",
       "      <td>0.0</td>\n",
       "      <td>0.0</td>\n",
       "      <td>0.0</td>\n",
       "      <td>0.0</td>\n",
       "      <td>1.0</td>\n",
       "      <td>0.0</td>\n",
       "      <td>9.0</td>\n",
       "      <td>7.0</td>\n",
       "      <td>0.0</td>\n",
       "      <td>0.0</td>\n",
       "      <td>0.0</td>\n",
       "      <td>0.0</td>\n",
       "      <td>New Case/s (Probable)</td>\n",
       "    </tr>\n",
       "    <tr>\n",
       "      <th>2889</th>\n",
       "      <td>0.0</td>\n",
       "      <td>0.0</td>\n",
       "      <td>12/1/2014</td>\n",
       "      <td>0.0</td>\n",
       "      <td>0.0</td>\n",
       "      <td>0.0</td>\n",
       "      <td>NaN</td>\n",
       "      <td>0.0</td>\n",
       "      <td>0.0</td>\n",
       "      <td>0.0</td>\n",
       "      <td>0.0</td>\n",
       "      <td>0.0</td>\n",
       "      <td>1.0</td>\n",
       "      <td>1.0</td>\n",
       "      <td>0.0</td>\n",
       "      <td>0.0</td>\n",
       "      <td>0.0</td>\n",
       "      <td>0.0</td>\n",
       "      <td>New case/s (confirmed)</td>\n",
       "    </tr>\n",
       "  </tbody>\n",
       "</table>\n",
       "</div>"
      ],
      "text/plain": [
       "      Bomi County  Bong County       Date  Gbarpolu County  Grand Bassa  \\\n",
       "2887          0.0          3.0  12/1/2014              0.0          2.0   \n",
       "2888          0.0          0.0  12/1/2014              0.0          1.0   \n",
       "2889          0.0          0.0  12/1/2014              0.0          0.0   \n",
       "\n",
       "      Grand Cape Mount  Grand Gedeh  Grand Kru  Lofa County  Margibi County  \\\n",
       "2887               NaN          2.0        0.0          0.0             0.0   \n",
       "2888               NaN          0.0        0.0          0.0             0.0   \n",
       "2889               0.0          NaN        0.0          0.0             0.0   \n",
       "\n",
       "      Maryland County  Montserrado County  Totals  Nimba County  \\\n",
       "2887              5.0                 0.0    25.0          12.0   \n",
       "2888              1.0                 0.0     9.0           7.0   \n",
       "2889              0.0                 0.0     1.0           1.0   \n",
       "\n",
       "      River Gee County  RiverCess County  Sinoe County  Unnamed: 18  \\\n",
       "2887               0.0               0.0           0.0          1.0   \n",
       "2888               0.0               0.0           0.0          0.0   \n",
       "2889               0.0               0.0           0.0          0.0   \n",
       "\n",
       "                 Description  \n",
       "2887  New Case/s (Suspected)  \n",
       "2888   New Case/s (Probable)  \n",
       "2889  New case/s (confirmed)  "
      ]
     },
     "execution_count": 109,
     "metadata": {},
     "output_type": "execute_result"
    }
   ],
   "source": [
    "data_liberia[data_liberia['Unnamed: 18'].isnull()==False]\n",
    "#Same day, 3 observations results of creating 'Unnamed 18' colomn over 3152 other observations -> by looking into 2014-12-01.csv, comma is missing at the end of the row: suspect error (in shift) "
   ]
  },
  {
   "cell_type": "code",
   "execution_count": 110,
   "metadata": {
    "collapsed": true
   },
   "outputs": [],
   "source": [
    "data_liberia.drop('Unnamed: 18', axis=1, inplace=True)"
   ]
  },
  {
   "cell_type": "code",
   "execution_count": 111,
   "metadata": {},
   "outputs": [],
   "source": [
    "data_liberia.Date # need to parse to the same date format as guinea date\n",
    "data_liberia.Date=pd.to_datetime(data_liberia.Date) "
   ]
  },
  {
   "cell_type": "code",
   "execution_count": 112,
   "metadata": {
    "collapsed": true
   },
   "outputs": [],
   "source": [
    "data_liberia = data_liberia[['Date','Description','Totals']]\n",
    "data_liberia.dropna(axis=0, how='any', inplace=True) #Drop rows where any of the elements are nan"
   ]
  },
  {
   "cell_type": "code",
   "execution_count": 113,
   "metadata": {
    "collapsed": true
   },
   "outputs": [],
   "source": [
    "data_liberia[data_liberia.duplicated()==True] # no duplicate row\n",
    "data_liberia['Country']='Liberia'\n",
    "data_liberia = data_liberia.set_index(['Country','Date'])"
   ]
  },
  {
   "cell_type": "code",
   "execution_count": 114,
   "metadata": {},
   "outputs": [
    {
     "data": {
      "text/html": [
       "<div>\n",
       "<style>\n",
       "    .dataframe thead tr:only-child th {\n",
       "        text-align: right;\n",
       "    }\n",
       "\n",
       "    .dataframe thead th {\n",
       "        text-align: left;\n",
       "    }\n",
       "\n",
       "    .dataframe tbody tr th {\n",
       "        vertical-align: top;\n",
       "    }\n",
       "</style>\n",
       "<table border=\"1\" class=\"dataframe\">\n",
       "  <thead>\n",
       "    <tr style=\"text-align: right;\">\n",
       "      <th></th>\n",
       "      <th></th>\n",
       "      <th>Description</th>\n",
       "      <th>Totals</th>\n",
       "    </tr>\n",
       "    <tr>\n",
       "      <th>Country</th>\n",
       "      <th>Date</th>\n",
       "      <th></th>\n",
       "      <th></th>\n",
       "    </tr>\n",
       "  </thead>\n",
       "  <tbody>\n",
       "    <tr>\n",
       "      <th rowspan=\"5\" valign=\"top\">Liberia</th>\n",
       "      <th>2014-06-16</th>\n",
       "      <td>Specimens collected</td>\n",
       "      <td>1.0</td>\n",
       "    </tr>\n",
       "    <tr>\n",
       "      <th>2014-06-16</th>\n",
       "      <td>Specimens pending for testing</td>\n",
       "      <td>0.0</td>\n",
       "    </tr>\n",
       "    <tr>\n",
       "      <th>2014-06-16</th>\n",
       "      <td>Total specimens tested</td>\n",
       "      <td>28.0</td>\n",
       "    </tr>\n",
       "    <tr>\n",
       "      <th>2014-06-16</th>\n",
       "      <td>Newly reported deaths</td>\n",
       "      <td>2.0</td>\n",
       "    </tr>\n",
       "    <tr>\n",
       "      <th>2014-06-16</th>\n",
       "      <td>Total death/s in confirmed cases</td>\n",
       "      <td>8.0</td>\n",
       "    </tr>\n",
       "  </tbody>\n",
       "</table>\n",
       "</div>"
      ],
      "text/plain": [
       "                                         Description  Totals\n",
       "Country Date                                                \n",
       "Liberia 2014-06-16               Specimens collected     1.0\n",
       "        2014-06-16     Specimens pending for testing     0.0\n",
       "        2014-06-16            Total specimens tested    28.0\n",
       "        2014-06-16             Newly reported deaths     2.0\n",
       "        2014-06-16  Total death/s in confirmed cases     8.0"
      ]
     },
     "execution_count": 114,
     "metadata": {},
     "output_type": "execute_result"
    }
   ],
   "source": [
    "data_liberia.head()"
   ]
  },
  {
   "cell_type": "code",
   "execution_count": null,
   "metadata": {
    "collapsed": true
   },
   "outputs": [],
   "source": []
  },
  {
   "cell_type": "markdown",
   "metadata": {},
   "source": [
    "### Sierra Leone"
   ]
  },
  {
   "cell_type": "code",
   "execution_count": 115,
   "metadata": {},
   "outputs": [
    {
     "data": {
      "text/plain": [
       "(3262, 27)"
      ]
     },
     "execution_count": 115,
     "metadata": {},
     "output_type": "execute_result"
    }
   ],
   "source": [
    "data_sl = loadAllFile(sl)\n",
    "data_sl.shape"
   ]
  },
  {
   "cell_type": "code",
   "execution_count": 116,
   "metadata": {},
   "outputs": [
    {
     "data": {
      "text/plain": [
       "Index(['34 Military Hospital', 'Bo', 'Bo EMC', 'Bombali', 'Bonthe',\n",
       "       'Hastings-F/Town', 'Kailahun', 'Kambia', 'Kenema', 'Kenema (IFRC)',\n",
       "       'Kenema (KGH)', 'Koinadugu', 'Kono', 'Moyamba', 'National',\n",
       "       'Police training School', 'Police traning School', 'Port Loko',\n",
       "       'Pujehun', 'Tonkolili', 'Unnamed: 18', 'Western area',\n",
       "       'Western area combined', 'Western area rural', 'Western area urban',\n",
       "       'date', 'variable'],\n",
       "      dtype='object')"
      ]
     },
     "execution_count": 116,
     "metadata": {},
     "output_type": "execute_result"
    }
   ],
   "source": [
    "data_sl.columns"
   ]
  },
  {
   "cell_type": "code",
   "execution_count": 117,
   "metadata": {
    "collapsed": true
   },
   "outputs": [],
   "source": [
    "data_sl.rename(columns={'variable': 'Description'}, inplace=True)\n",
    "data_sl.rename(columns={'date': 'Date'}, inplace=True)\n",
    "data_sl.rename(columns={'National': 'Totals'}, inplace=True)"
   ]
  },
  {
   "cell_type": "code",
   "execution_count": 118,
   "metadata": {
    "collapsed": true
   },
   "outputs": [],
   "source": [
    "data_sl['Unnamed: 18'].unique() # columns give us any information\n",
    "data_sl.drop('Unnamed: 18', axis=1, inplace=True)"
   ]
  },
  {
   "cell_type": "code",
   "execution_count": 119,
   "metadata": {
    "collapsed": true
   },
   "outputs": [],
   "source": [
    "data_sl = data_sl[['Date','Description','Totals']]\n",
    "data_sl.dropna(axis=0, how='any', inplace=True) #Drop rows where any of the elements are nan"
   ]
  },
  {
   "cell_type": "code",
   "execution_count": 120,
   "metadata": {
    "collapsed": true
   },
   "outputs": [],
   "source": [
    "data_sl[data_sl.duplicated()==True] # no duplicate row\n",
    "data_sl['Country']='Sierra Leone'\n",
    "data_sl.Date=pd.to_datetime(data_sl.Date) \n",
    "data_sl = data_sl.set_index(['Country','Date'])"
   ]
  },
  {
   "cell_type": "code",
   "execution_count": 121,
   "metadata": {},
   "outputs": [
    {
     "data": {
      "text/html": [
       "<div>\n",
       "<style>\n",
       "    .dataframe thead tr:only-child th {\n",
       "        text-align: right;\n",
       "    }\n",
       "\n",
       "    .dataframe thead th {\n",
       "        text-align: left;\n",
       "    }\n",
       "\n",
       "    .dataframe tbody tr th {\n",
       "        vertical-align: top;\n",
       "    }\n",
       "</style>\n",
       "<table border=\"1\" class=\"dataframe\">\n",
       "  <thead>\n",
       "    <tr style=\"text-align: right;\">\n",
       "      <th></th>\n",
       "      <th></th>\n",
       "      <th>Description</th>\n",
       "      <th>Totals</th>\n",
       "    </tr>\n",
       "    <tr>\n",
       "      <th>Country</th>\n",
       "      <th>Date</th>\n",
       "      <th></th>\n",
       "      <th></th>\n",
       "    </tr>\n",
       "  </thead>\n",
       "  <tbody>\n",
       "    <tr>\n",
       "      <th rowspan=\"5\" valign=\"top\">Sierra Leone</th>\n",
       "      <th>2014-08-12</th>\n",
       "      <td>population</td>\n",
       "      <td>6348350</td>\n",
       "    </tr>\n",
       "    <tr>\n",
       "      <th>2014-08-12</th>\n",
       "      <td>new_noncase</td>\n",
       "      <td>4</td>\n",
       "    </tr>\n",
       "    <tr>\n",
       "      <th>2014-08-12</th>\n",
       "      <td>new_suspected</td>\n",
       "      <td>10</td>\n",
       "    </tr>\n",
       "    <tr>\n",
       "      <th>2014-08-12</th>\n",
       "      <td>new_probable</td>\n",
       "      <td>1</td>\n",
       "    </tr>\n",
       "    <tr>\n",
       "      <th>2014-08-12</th>\n",
       "      <td>new_confirmed</td>\n",
       "      <td>11</td>\n",
       "    </tr>\n",
       "  </tbody>\n",
       "</table>\n",
       "</div>"
      ],
      "text/plain": [
       "                           Description   Totals\n",
       "Country      Date                              \n",
       "Sierra Leone 2014-08-12     population  6348350\n",
       "             2014-08-12    new_noncase        4\n",
       "             2014-08-12  new_suspected       10\n",
       "             2014-08-12   new_probable        1\n",
       "             2014-08-12  new_confirmed       11"
      ]
     },
     "execution_count": 121,
     "metadata": {},
     "output_type": "execute_result"
    }
   ],
   "source": [
    "data_sl.head()"
   ]
  },
  {
   "cell_type": "markdown",
   "metadata": {},
   "source": [
    "##  All Data"
   ]
  },
  {
   "cell_type": "code",
   "execution_count": 122,
   "metadata": {},
   "outputs": [
    {
     "data": {
      "text/html": [
       "<div>\n",
       "<style>\n",
       "    .dataframe thead tr:only-child th {\n",
       "        text-align: right;\n",
       "    }\n",
       "\n",
       "    .dataframe thead th {\n",
       "        text-align: left;\n",
       "    }\n",
       "\n",
       "    .dataframe tbody tr th {\n",
       "        vertical-align: top;\n",
       "    }\n",
       "</style>\n",
       "<table border=\"1\" class=\"dataframe\">\n",
       "  <thead>\n",
       "    <tr style=\"text-align: right;\">\n",
       "      <th></th>\n",
       "      <th></th>\n",
       "      <th>Description</th>\n",
       "      <th>Totals</th>\n",
       "    </tr>\n",
       "    <tr>\n",
       "      <th>Country</th>\n",
       "      <th>Date</th>\n",
       "      <th></th>\n",
       "      <th></th>\n",
       "    </tr>\n",
       "  </thead>\n",
       "  <tbody>\n",
       "    <tr>\n",
       "      <th>Liberia</th>\n",
       "      <th>2014-09-11</th>\n",
       "      <td>New Case/s (Probable)</td>\n",
       "      <td>67</td>\n",
       "    </tr>\n",
       "    <tr>\n",
       "      <th rowspan=\"2\" valign=\"top\">Sierra Leone</th>\n",
       "      <th>2014-10-08</th>\n",
       "      <td>etc_currently_admitted</td>\n",
       "      <td>158</td>\n",
       "    </tr>\n",
       "    <tr>\n",
       "      <th>2014-10-01</th>\n",
       "      <td>contacts_followed</td>\n",
       "      <td>7688</td>\n",
       "    </tr>\n",
       "    <tr>\n",
       "      <th>Liberia</th>\n",
       "      <th>2014-07-02</th>\n",
       "      <td>New Case/s (Suspected)</td>\n",
       "      <td>1</td>\n",
       "    </tr>\n",
       "    <tr>\n",
       "      <th rowspan=\"2\" valign=\"top\">Sierra Leone</th>\n",
       "      <th>2014-08-28</th>\n",
       "      <td>death_suspected</td>\n",
       "      <td>11</td>\n",
       "    </tr>\n",
       "    <tr>\n",
       "      <th>2014-09-07</th>\n",
       "      <td>cum_suspected</td>\n",
       "      <td>100</td>\n",
       "    </tr>\n",
       "  </tbody>\n",
       "</table>\n",
       "</div>"
      ],
      "text/plain": [
       "                                    Description Totals\n",
       "Country      Date                                     \n",
       "Liberia      2014-09-11   New Case/s (Probable)     67\n",
       "Sierra Leone 2014-10-08  etc_currently_admitted    158\n",
       "             2014-10-01       contacts_followed   7688\n",
       "Liberia      2014-07-02  New Case/s (Suspected)      1\n",
       "Sierra Leone 2014-08-28         death_suspected     11\n",
       "             2014-09-07           cum_suspected    100"
      ]
     },
     "execution_count": 122,
     "metadata": {},
     "output_type": "execute_result"
    }
   ],
   "source": [
    "data = pd.concat([data_guinea,data_liberia,data_sl])\n",
    "data.sample(6)"
   ]
  },
  {
   "cell_type": "code",
   "execution_count": 124,
   "metadata": {},
   "outputs": [
    {
     "data": {
      "text/plain": [
       "DatetimeIndex(['2014-06-16', '2014-06-17', '2014-06-22', '2014-06-24',\n",
       "               '2014-06-25', '2014-06-28', '2014-06-29', '2014-07-01',\n",
       "               '2014-07-02', '2014-07-03',\n",
       "               ...\n",
       "               '2014-12-01', '2014-12-02', '2014-12-03', '2014-12-04',\n",
       "               '2014-12-05', '2014-12-06', '2014-12-07', '2014-12-08',\n",
       "               '2014-12-09', '2014-12-13'],\n",
       "              dtype='datetime64[ns]', name='Date', length=135, freq=None)"
      ]
     },
     "execution_count": 124,
     "metadata": {},
     "output_type": "execute_result"
    }
   ],
   "source": [
    "data.index.levels[1]"
   ]
  },
  {
   "cell_type": "code",
   "execution_count": null,
   "metadata": {
    "collapsed": true
   },
   "outputs": [],
   "source": []
  }
 ],
 "metadata": {
  "kernelspec": {
   "display_name": "Python 3",
   "language": "python",
   "name": "python3"
  },
  "language_info": {
   "codemirror_mode": {
    "name": "ipython",
    "version": 3
   },
   "file_extension": ".py",
   "mimetype": "text/x-python",
   "name": "python",
   "nbconvert_exporter": "python",
   "pygments_lexer": "ipython3",
   "version": "3.6.2"
  }
 },
 "nbformat": 4,
 "nbformat_minor": 2
}
