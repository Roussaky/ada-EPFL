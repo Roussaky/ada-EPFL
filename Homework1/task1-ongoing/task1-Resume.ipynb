{
 "cells": [
  {
   "cell_type": "code",
   "execution_count": 171,
   "metadata": {
    "collapsed": true
   },
   "outputs": [],
   "source": [
    "DATA_FOLDER = '../../../ADA2017-Tutorials/02 - Intro to Pandas/Data/'"
   ]
  },
  {
   "cell_type": "markdown",
   "metadata": {},
   "source": [
    "## TASK 1: EBOLA DATA"
   ]
  },
  {
   "cell_type": "code",
   "execution_count": 172,
   "metadata": {
    "collapsed": true
   },
   "outputs": [],
   "source": [
    "import pandas as pd\n",
    "import os.path"
   ]
  },
  {
   "cell_type": "code",
   "execution_count": 173,
   "metadata": {
    "collapsed": true
   },
   "outputs": [],
   "source": [
    "EBOLA_FOLDER = DATA_FOLDER+'ebola/'\n",
    "\n",
    "guinea = EBOLA_FOLDER+'guinea_data/'\n",
    "liberia = EBOLA_FOLDER+'liberia_data/'\n",
    "sl = EBOLA_FOLDER+'sl_data' #Sierra Leone"
   ]
  },
  {
   "cell_type": "code",
   "execution_count": 174,
   "metadata": {
    "collapsed": true
   },
   "outputs": [],
   "source": [
    "def loadAllFile(FolderPath):\n",
    "    data = pd.DataFrame()\n",
    "    for f in os.listdir(FolderPath):\n",
    "        file_path = os.path.join(FolderPath, f)\n",
    "        file_data = pd.read_csv(file_path)\n",
    "        data = data.append(file_data, ignore_index=True)\n",
    "    return data"
   ]
  },
  {
   "cell_type": "markdown",
   "metadata": {},
   "source": [
    "### Guinea"
   ]
  },
  {
   "cell_type": "code",
   "execution_count": 175,
   "metadata": {},
   "outputs": [],
   "source": [
    "data_guinea = loadAllFile(guinea)\n",
    "data_guinea.Date=pd.to_datetime(data_guinea.Date) \n",
    "data_guinea['Country']='Guinea'\n",
    "data_guinea = data_guinea.set_index(['Country','Date'])"
   ]
  },
  {
   "cell_type": "markdown",
   "metadata": {},
   "source": [
    "### Liberia "
   ]
  },
  {
   "cell_type": "code",
   "execution_count": 176,
   "metadata": {},
   "outputs": [],
   "source": [
    "data_liberia = loadAllFile(liberia)\n",
    "data_liberia.rename(columns={'Variable': 'Description','National': 'Totals'}, inplace=True)\n",
    "data_liberia.Date=pd.to_datetime(data_liberia.Date) \n",
    "data_liberia.drop('Unnamed: 18', axis=1, inplace=True)\n",
    "data_liberia['Country']='Liberia'\n",
    "data_liberia = data_liberia.set_index(['Country','Date'])"
   ]
  },
  {
   "cell_type": "markdown",
   "metadata": {},
   "source": [
    "### Sierra Leone"
   ]
  },
  {
   "cell_type": "code",
   "execution_count": 177,
   "metadata": {},
   "outputs": [],
   "source": [
    "data_sl = loadAllFile(sl)\n",
    "data_sl.rename(columns={'variable': 'Description','date': 'Date','National': 'Totals'}, inplace=True)\n",
    "data_sl.Date=pd.to_datetime(data_sl.Date) \n",
    "data_sl.drop('Unnamed: 18', axis=1, inplace=True)\n",
    "data_sl.dropna(axis=1, how='all', inplace=True) #Drop columns where all of the elements are nan (Police traning School)\n",
    "data_sl['Country']='Sierra Leone'\n",
    "data_sl = data_sl.set_index(['Country','Date'])"
   ]
  },
  {
   "cell_type": "markdown",
   "metadata": {},
   "source": [
    "##  All Data"
   ]
  },
  {
   "cell_type": "code",
   "execution_count": 178,
   "metadata": {},
   "outputs": [],
   "source": [
    "#Selecting important column to answer the question\n",
    "data_guinea = data_guinea[['Description','Totals']]\n",
    "data_liberia = data_liberia[['Description','Totals']]\n",
    "data_sl = data_sl[['Description','Totals']]\n",
    "\n",
    "#Merge\n",
    "data = pd.concat([data_guinea,data_liberia,data_sl])\n",
    "\n",
    "#droping row with no information\n",
    "data.dropna(axis=0, how='any', inplace=True) #Drop rows where any of the elements are nan"
   ]
  },
  {
   "cell_type": "code",
   "execution_count": 179,
   "metadata": {},
   "outputs": [
    {
     "data": {
      "text/html": [
       "<div>\n",
       "<style>\n",
       "    .dataframe thead tr:only-child th {\n",
       "        text-align: right;\n",
       "    }\n",
       "\n",
       "    .dataframe thead th {\n",
       "        text-align: left;\n",
       "    }\n",
       "\n",
       "    .dataframe tbody tr th {\n",
       "        vertical-align: top;\n",
       "    }\n",
       "</style>\n",
       "<table border=\"1\" class=\"dataframe\">\n",
       "  <thead>\n",
       "    <tr style=\"text-align: right;\">\n",
       "      <th></th>\n",
       "      <th>Totals</th>\n",
       "    </tr>\n",
       "    <tr>\n",
       "      <th>Description</th>\n",
       "      <th></th>\n",
       "    </tr>\n",
       "  </thead>\n",
       "  <tbody>\n",
       "    <tr>\n",
       "      <th>New cases of confirmed</th>\n",
       "      <td>24.0</td>\n",
       "    </tr>\n",
       "    <tr>\n",
       "      <th>New cases of probables</th>\n",
       "      <td>0.0</td>\n",
       "    </tr>\n",
       "    <tr>\n",
       "      <th>New cases of suspects</th>\n",
       "      <td>35.0</td>\n",
       "    </tr>\n",
       "    <tr>\n",
       "      <th>New deaths registered today</th>\n",
       "      <td>2.0</td>\n",
       "    </tr>\n",
       "    <tr>\n",
       "      <th>New deaths registered today (confirmed)</th>\n",
       "      <td>2.0</td>\n",
       "    </tr>\n",
       "    <tr>\n",
       "      <th>New deaths registered today (probables)</th>\n",
       "      <td>0.0</td>\n",
       "    </tr>\n",
       "    <tr>\n",
       "      <th>New deaths registered today (suspects)</th>\n",
       "      <td>0.0</td>\n",
       "    </tr>\n",
       "    <tr>\n",
       "      <th>Total new cases registered so far</th>\n",
       "      <td>59.0</td>\n",
       "    </tr>\n",
       "  </tbody>\n",
       "</table>\n",
       "</div>"
      ],
      "text/plain": [
       "                                         Totals\n",
       "Description                                    \n",
       "New cases of confirmed                     24.0\n",
       "New cases of probables                      0.0\n",
       "New cases of suspects                      35.0\n",
       "New deaths registered today                 2.0\n",
       "New deaths registered today (confirmed)     2.0\n",
       "New deaths registered today (probables)     0.0\n",
       "New deaths registered today (suspects)      0.0\n",
       "Total new cases registered so far          59.0"
      ]
     },
     "execution_count": 179,
     "metadata": {},
     "output_type": "execute_result"
    }
   ],
   "source": [
    "date_start = '2014-08-01'\n",
    "date_end = '2014-08-29'\n",
    "country= 'Guinea' \n",
    "\n",
    "newCases_guinea=['New cases of suspects', 'New cases of probables',\n",
    "       'New cases of confirmed', 'Total new cases registered so far']\n",
    "newDeath_guinea=['New deaths registered today',\n",
    "       'New deaths registered today (confirmed)',\n",
    "       'New deaths registered today (probables)',\n",
    "       'New deaths registered today (suspects)']\n",
    "TERMS_GUINEA= newCases_guinea+newDeath_guinea\n",
    "\n",
    "tmp = data.xs(country, level='Country').loc[date_start:date_end]\n",
    "\n",
    "tmp = tmp[tmp[\"Description\"].isin(TERMS_GUINEA)]\n",
    "tmp['Totals']= tmp['Totals'].astype(float)\n",
    "\n",
    "tmp.groupby('Description').sum() "
   ]
  },
  {
   "cell_type": "code",
   "execution_count": null,
   "metadata": {
    "collapsed": true
   },
   "outputs": [],
   "source": []
  }
 ],
 "metadata": {
  "kernelspec": {
   "display_name": "Python 3",
   "language": "python",
   "name": "python3"
  },
  "language_info": {
   "codemirror_mode": {
    "name": "ipython",
    "version": 3
   },
   "file_extension": ".py",
   "mimetype": "text/x-python",
   "name": "python",
   "nbconvert_exporter": "python",
   "pygments_lexer": "ipython3",
   "version": "3.6.2"
  }
 },
 "nbformat": 4,
 "nbformat_minor": 2
}
